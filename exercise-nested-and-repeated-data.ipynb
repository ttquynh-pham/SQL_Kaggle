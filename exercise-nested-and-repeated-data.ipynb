{
 "cells": [
  {
   "cell_type": "markdown",
   "id": "e77d5175",
   "metadata": {
    "papermill": {
     "duration": 0.02155,
     "end_time": "2022-03-21T01:59:23.562555",
     "exception": false,
     "start_time": "2022-03-21T01:59:23.541005",
     "status": "completed"
    },
    "tags": []
   },
   "source": [
    "**This notebook is an exercise in the [Advanced SQL](https://www.kaggle.com/learn/advanced-sql) course.  You can reference the tutorial at [this link](https://www.kaggle.com/alexisbcook/nested-and-repeated-data).**\n",
    "\n",
    "---\n"
   ]
  },
  {
   "cell_type": "markdown",
   "id": "840bb290",
   "metadata": {
    "papermill": {
     "duration": 0.020165,
     "end_time": "2022-03-21T01:59:23.605002",
     "exception": false,
     "start_time": "2022-03-21T01:59:23.584837",
     "status": "completed"
    },
    "tags": []
   },
   "source": [
    "# Introduction\n",
    "\n",
    "Now that you know how to query nested and repeated data, you're ready to draw interesting insights from the [GitHub Repos](https://www.kaggle.com/github/github-repos) dataset.  \n",
    "\n",
    "Before you get started, run the following cell to set everything up."
   ]
  },
  {
   "cell_type": "code",
   "execution_count": 1,
   "id": "f6544bf8",
   "metadata": {
    "execution": {
     "iopub.execute_input": "2022-03-21T01:59:23.652583Z",
     "iopub.status.busy": "2022-03-21T01:59:23.650770Z",
     "iopub.status.idle": "2022-03-21T01:59:27.534787Z",
     "shell.execute_reply": "2022-03-21T01:59:27.535507Z",
     "shell.execute_reply.started": "2022-03-21T01:28:58.031344Z"
    },
    "papermill": {
     "duration": 3.910111,
     "end_time": "2022-03-21T01:59:27.535951",
     "exception": false,
     "start_time": "2022-03-21T01:59:23.625840",
     "status": "completed"
    },
    "tags": []
   },
   "outputs": [
    {
     "name": "stdout",
     "output_type": "stream",
     "text": [
      "Using Kaggle's public dataset BigQuery integration.\n"
     ]
    },
    {
     "name": "stderr",
     "output_type": "stream",
     "text": [
      "/opt/conda/lib/python3.7/site-packages/google/cloud/bigquery/client.py:440: UserWarning: Cannot create BigQuery Storage client, the dependency google-cloud-bigquery-storage is not installed.\n",
      "  \"Cannot create BigQuery Storage client, the dependency \"\n"
     ]
    },
    {
     "name": "stdout",
     "output_type": "stream",
     "text": [
      "Setup Complete\n"
     ]
    }
   ],
   "source": [
    "# Set up feedback system\n",
    "from learntools.core import binder\n",
    "binder.bind(globals())\n",
    "from learntools.sql_advanced.ex3 import *\n",
    "print(\"Setup Complete\")"
   ]
  },
  {
   "cell_type": "markdown",
   "id": "39dbbe71",
   "metadata": {
    "papermill": {
     "duration": 0.020871,
     "end_time": "2022-03-21T01:59:27.579023",
     "exception": false,
     "start_time": "2022-03-21T01:59:27.558152",
     "status": "completed"
    },
    "tags": []
   },
   "source": [
    "# Exercises\n",
    "\n",
    "### 1) Who had the most commits in 2016?\n",
    "\n",
    "GitHub is the most popular place to collaborate on software projects. A GitHub **repository** (or repo) is a collection of files associated with a specific project, and a GitHub **commit** is a change that a user has made to a repository.  We refer to the user as a **committer**.\n",
    "\n",
    "The `sample_commits` table contains a small sample of GitHub commits, where each row corresponds to different commit.  The code cell below fetches the table and shows the first five rows of this table."
   ]
  },
  {
   "cell_type": "code",
   "execution_count": 2,
   "id": "1421d991",
   "metadata": {
    "execution": {
     "iopub.execute_input": "2022-03-21T01:59:27.624634Z",
     "iopub.status.busy": "2022-03-21T01:59:27.624002Z",
     "iopub.status.idle": "2022-03-21T01:59:28.708255Z",
     "shell.execute_reply": "2022-03-21T01:59:28.708779Z",
     "shell.execute_reply.started": "2022-03-21T01:29:05.767732Z"
    },
    "papermill": {
     "duration": 1.108767,
     "end_time": "2022-03-21T01:59:28.708968",
     "exception": false,
     "start_time": "2022-03-21T01:59:27.600201",
     "status": "completed"
    },
    "tags": []
   },
   "outputs": [
    {
     "name": "stdout",
     "output_type": "stream",
     "text": [
      "Using Kaggle's public dataset BigQuery integration.\n"
     ]
    },
    {
     "name": "stderr",
     "output_type": "stream",
     "text": [
      "/opt/conda/lib/python3.7/site-packages/ipykernel_launcher.py:19: UserWarning: Cannot use bqstorage_client if max_results is set, reverting to fetching data with the tabledata.list endpoint.\n"
     ]
    },
    {
     "data": {
      "text/html": [
       "<div>\n",
       "<style scoped>\n",
       "    .dataframe tbody tr th:only-of-type {\n",
       "        vertical-align: middle;\n",
       "    }\n",
       "\n",
       "    .dataframe tbody tr th {\n",
       "        vertical-align: top;\n",
       "    }\n",
       "\n",
       "    .dataframe thead th {\n",
       "        text-align: right;\n",
       "    }\n",
       "</style>\n",
       "<table border=\"1\" class=\"dataframe\">\n",
       "  <thead>\n",
       "    <tr style=\"text-align: right;\">\n",
       "      <th></th>\n",
       "      <th>commit</th>\n",
       "      <th>tree</th>\n",
       "      <th>parent</th>\n",
       "      <th>author</th>\n",
       "      <th>committer</th>\n",
       "      <th>subject</th>\n",
       "      <th>message</th>\n",
       "      <th>trailer</th>\n",
       "      <th>difference</th>\n",
       "      <th>difference_truncated</th>\n",
       "      <th>repo_name</th>\n",
       "      <th>encoding</th>\n",
       "    </tr>\n",
       "  </thead>\n",
       "  <tbody>\n",
       "    <tr>\n",
       "      <th>0</th>\n",
       "      <td>3eca86e75ec7a7d4b9a9c8091b11676f7bd2a39f</td>\n",
       "      <td>8e1b4380409a85a922ee0d3f622b5dd4d16bcfad</td>\n",
       "      <td>[104a0c02e8b1936c049e18a6d4e4ab040fb61213]</td>\n",
       "      <td>{'name': 'Mark Rutland', 'email': '1db9dd262be...</td>\n",
       "      <td>{'name': 'Catalin Marinas', 'email': '15ce75b2...</td>\n",
       "      <td>arm64: Remove fixmap include fragility</td>\n",
       "      <td>arm64: Remove fixmap include fragility\\n\\nThe ...</td>\n",
       "      <td>[{'key': 'Signed-off-by', 'value': 'Mark Rutla...</td>\n",
       "      <td>[{'old_mode': 33188.0, 'new_mode': 33188.0, 'o...</td>\n",
       "      <td>None</td>\n",
       "      <td>torvalds/linux</td>\n",
       "      <td>None</td>\n",
       "    </tr>\n",
       "    <tr>\n",
       "      <th>1</th>\n",
       "      <td>7158627686f02319c50c8d9d78f75d4c8d126ff2</td>\n",
       "      <td>3b4d781bd966f07cad1b67b137f0ff8b89430e9a</td>\n",
       "      <td>[66aa8d6a145b6a66566b4fce219cc56c3d0e01c3]</td>\n",
       "      <td>{'name': 'Will Deacon', 'email': 'b913f13ef92a...</td>\n",
       "      <td>{'name': 'Catalin Marinas', 'email': '15ce75b2...</td>\n",
       "      <td>arm64: percpu: implement optimised pcpu access...</td>\n",
       "      <td>arm64: percpu: implement optimised pcpu access...</td>\n",
       "      <td>[{'key': 'Signed-off-by', 'value': 'Will Deaco...</td>\n",
       "      <td>[{'old_mode': 33188.0, 'new_mode': 33188.0, 'o...</td>\n",
       "      <td>None</td>\n",
       "      <td>torvalds/linux</td>\n",
       "      <td>None</td>\n",
       "    </tr>\n",
       "    <tr>\n",
       "      <th>2</th>\n",
       "      <td>9732cafd9dc0206479be919baf0067239f0a63ca</td>\n",
       "      <td>c8878035ac9cb6dce592957f12dc1723a583989d</td>\n",
       "      <td>[f3c003f72dfb2497056bcbb864885837a1968ed5]</td>\n",
       "      <td>{'name': 'Jiang Liu', 'email': 'c745fa7b96fe79...</td>\n",
       "      <td>{'name': 'Catalin Marinas', 'email': '15ce75b2...</td>\n",
       "      <td>arm64, jump label: optimize jump label impleme...</td>\n",
       "      <td>arm64, jump label: optimize jump label impleme...</td>\n",
       "      <td>[{'key': 'Reviewed-by', 'value': 'Will Deacon ...</td>\n",
       "      <td>[{'old_mode': 33188.0, 'new_mode': 33188.0, 'o...</td>\n",
       "      <td>None</td>\n",
       "      <td>torvalds/linux</td>\n",
       "      <td>None</td>\n",
       "    </tr>\n",
       "    <tr>\n",
       "      <th>3</th>\n",
       "      <td>4702abd3f9728893ad5b0f4389e1902588510459</td>\n",
       "      <td>32926e7c55ef585d9b9c174a0e5f9ed13ed6bf7e</td>\n",
       "      <td>[ddf28352b80c86754a6424e3a61e8bdf9213b3c7]</td>\n",
       "      <td>{'name': 'Nicolas Pitre', 'email': '408789a210...</td>\n",
       "      <td>{'name': 'Arnd Bergmann', 'email': 'f2c659f019...</td>\n",
       "      <td>ARM: mach-nuc93x: delete</td>\n",
       "      <td>ARM: mach-nuc93x: delete\\n\\nThis architecture ...</td>\n",
       "      <td>[{'key': 'Signed-off-by', 'value': 'Nicolas Pi...</td>\n",
       "      <td>[{'old_mode': 33188.0, 'new_mode': 33188.0, 'o...</td>\n",
       "      <td>None</td>\n",
       "      <td>torvalds/linux</td>\n",
       "      <td>None</td>\n",
       "    </tr>\n",
       "    <tr>\n",
       "      <th>4</th>\n",
       "      <td>57bd4b91a6cfc5bad4c5d829ef85293ea63643ea</td>\n",
       "      <td>2ffc2066eb7638e185663e9d849663403229d4e5</td>\n",
       "      <td>[f74c95c20bad8e183e41283475f68a3e7b247af4]</td>\n",
       "      <td>{'name': 'Ben Dooks', 'email': '1177f64998f284...</td>\n",
       "      <td>{'name': 'Ben Dooks', 'email': '1177f64998f284...</td>\n",
       "      <td>[ARM] S3C24XX: Movev udc headers to arch/arm/p...</td>\n",
       "      <td>[ARM] S3C24XX: Movev udc headers to arch/arm/p...</td>\n",
       "      <td>[{'key': 'Signed-off-by', 'value': 'Ben Dooks ...</td>\n",
       "      <td>[{'old_mode': 33188.0, 'new_mode': 33188.0, 'o...</td>\n",
       "      <td>None</td>\n",
       "      <td>torvalds/linux</td>\n",
       "      <td>None</td>\n",
       "    </tr>\n",
       "  </tbody>\n",
       "</table>\n",
       "</div>"
      ],
      "text/plain": [
       "                                     commit  \\\n",
       "0  3eca86e75ec7a7d4b9a9c8091b11676f7bd2a39f   \n",
       "1  7158627686f02319c50c8d9d78f75d4c8d126ff2   \n",
       "2  9732cafd9dc0206479be919baf0067239f0a63ca   \n",
       "3  4702abd3f9728893ad5b0f4389e1902588510459   \n",
       "4  57bd4b91a6cfc5bad4c5d829ef85293ea63643ea   \n",
       "\n",
       "                                       tree  \\\n",
       "0  8e1b4380409a85a922ee0d3f622b5dd4d16bcfad   \n",
       "1  3b4d781bd966f07cad1b67b137f0ff8b89430e9a   \n",
       "2  c8878035ac9cb6dce592957f12dc1723a583989d   \n",
       "3  32926e7c55ef585d9b9c174a0e5f9ed13ed6bf7e   \n",
       "4  2ffc2066eb7638e185663e9d849663403229d4e5   \n",
       "\n",
       "                                       parent  \\\n",
       "0  [104a0c02e8b1936c049e18a6d4e4ab040fb61213]   \n",
       "1  [66aa8d6a145b6a66566b4fce219cc56c3d0e01c3]   \n",
       "2  [f3c003f72dfb2497056bcbb864885837a1968ed5]   \n",
       "3  [ddf28352b80c86754a6424e3a61e8bdf9213b3c7]   \n",
       "4  [f74c95c20bad8e183e41283475f68a3e7b247af4]   \n",
       "\n",
       "                                              author  \\\n",
       "0  {'name': 'Mark Rutland', 'email': '1db9dd262be...   \n",
       "1  {'name': 'Will Deacon', 'email': 'b913f13ef92a...   \n",
       "2  {'name': 'Jiang Liu', 'email': 'c745fa7b96fe79...   \n",
       "3  {'name': 'Nicolas Pitre', 'email': '408789a210...   \n",
       "4  {'name': 'Ben Dooks', 'email': '1177f64998f284...   \n",
       "\n",
       "                                           committer  \\\n",
       "0  {'name': 'Catalin Marinas', 'email': '15ce75b2...   \n",
       "1  {'name': 'Catalin Marinas', 'email': '15ce75b2...   \n",
       "2  {'name': 'Catalin Marinas', 'email': '15ce75b2...   \n",
       "3  {'name': 'Arnd Bergmann', 'email': 'f2c659f019...   \n",
       "4  {'name': 'Ben Dooks', 'email': '1177f64998f284...   \n",
       "\n",
       "                                             subject  \\\n",
       "0             arm64: Remove fixmap include fragility   \n",
       "1  arm64: percpu: implement optimised pcpu access...   \n",
       "2  arm64, jump label: optimize jump label impleme...   \n",
       "3                           ARM: mach-nuc93x: delete   \n",
       "4  [ARM] S3C24XX: Movev udc headers to arch/arm/p...   \n",
       "\n",
       "                                             message  \\\n",
       "0  arm64: Remove fixmap include fragility\\n\\nThe ...   \n",
       "1  arm64: percpu: implement optimised pcpu access...   \n",
       "2  arm64, jump label: optimize jump label impleme...   \n",
       "3  ARM: mach-nuc93x: delete\\n\\nThis architecture ...   \n",
       "4  [ARM] S3C24XX: Movev udc headers to arch/arm/p...   \n",
       "\n",
       "                                             trailer  \\\n",
       "0  [{'key': 'Signed-off-by', 'value': 'Mark Rutla...   \n",
       "1  [{'key': 'Signed-off-by', 'value': 'Will Deaco...   \n",
       "2  [{'key': 'Reviewed-by', 'value': 'Will Deacon ...   \n",
       "3  [{'key': 'Signed-off-by', 'value': 'Nicolas Pi...   \n",
       "4  [{'key': 'Signed-off-by', 'value': 'Ben Dooks ...   \n",
       "\n",
       "                                          difference difference_truncated  \\\n",
       "0  [{'old_mode': 33188.0, 'new_mode': 33188.0, 'o...                 None   \n",
       "1  [{'old_mode': 33188.0, 'new_mode': 33188.0, 'o...                 None   \n",
       "2  [{'old_mode': 33188.0, 'new_mode': 33188.0, 'o...                 None   \n",
       "3  [{'old_mode': 33188.0, 'new_mode': 33188.0, 'o...                 None   \n",
       "4  [{'old_mode': 33188.0, 'new_mode': 33188.0, 'o...                 None   \n",
       "\n",
       "        repo_name encoding  \n",
       "0  torvalds/linux     None  \n",
       "1  torvalds/linux     None  \n",
       "2  torvalds/linux     None  \n",
       "3  torvalds/linux     None  \n",
       "4  torvalds/linux     None  "
      ]
     },
     "execution_count": 2,
     "metadata": {},
     "output_type": "execute_result"
    }
   ],
   "source": [
    "from google.cloud import bigquery\n",
    "\n",
    "# Create a \"Client\" object\n",
    "client = bigquery.Client()\n",
    "\n",
    "# Construct a reference to the \"github_repos\" dataset\n",
    "dataset_ref = client.dataset(\"github_repos\", project=\"bigquery-public-data\")\n",
    "\n",
    "# API request - fetch the dataset\n",
    "dataset = client.get_dataset(dataset_ref)\n",
    "\n",
    "# Construct a reference to the \"sample_commits\" table\n",
    "table_ref = dataset_ref.table(\"sample_commits\")\n",
    "\n",
    "# API request - fetch the table\n",
    "sample_commits_table = client.get_table(table_ref)\n",
    "\n",
    "# Preview the first five lines of the table\n",
    "client.list_rows(sample_commits_table, max_results=5).to_dataframe()"
   ]
  },
  {
   "cell_type": "markdown",
   "id": "79b9fb12",
   "metadata": {
    "papermill": {
     "duration": 0.022986,
     "end_time": "2022-03-21T01:59:28.755072",
     "exception": false,
     "start_time": "2022-03-21T01:59:28.732086",
     "status": "completed"
    },
    "tags": []
   },
   "source": [
    "Run the next code cell to print the table schema. "
   ]
  },
  {
   "cell_type": "code",
   "execution_count": 3,
   "id": "50ca4704",
   "metadata": {
    "execution": {
     "iopub.execute_input": "2022-03-21T01:59:28.805840Z",
     "iopub.status.busy": "2022-03-21T01:59:28.805107Z",
     "iopub.status.idle": "2022-03-21T01:59:28.808094Z",
     "shell.execute_reply": "2022-03-21T01:59:28.808585Z",
     "shell.execute_reply.started": "2022-03-21T01:31:50.962133Z"
    },
    "papermill": {
     "duration": 0.031167,
     "end_time": "2022-03-21T01:59:28.808741",
     "exception": false,
     "start_time": "2022-03-21T01:59:28.777574",
     "status": "completed"
    },
    "tags": []
   },
   "outputs": [
    {
     "data": {
      "text/plain": [
       "[SchemaField('commit', 'STRING', 'NULLABLE', None, (), None),\n",
       " SchemaField('tree', 'STRING', 'NULLABLE', None, (), None),\n",
       " SchemaField('parent', 'STRING', 'REPEATED', None, (), None),\n",
       " SchemaField('author', 'RECORD', 'NULLABLE', None, (SchemaField('name', 'STRING', 'NULLABLE', None, (), None), SchemaField('email', 'STRING', 'NULLABLE', None, (), None), SchemaField('time_sec', 'INTEGER', 'NULLABLE', None, (), None), SchemaField('tz_offset', 'INTEGER', 'NULLABLE', None, (), None), SchemaField('date', 'TIMESTAMP', 'NULLABLE', None, (), None)), None),\n",
       " SchemaField('committer', 'RECORD', 'NULLABLE', None, (SchemaField('name', 'STRING', 'NULLABLE', None, (), None), SchemaField('email', 'STRING', 'NULLABLE', None, (), None), SchemaField('time_sec', 'INTEGER', 'NULLABLE', None, (), None), SchemaField('tz_offset', 'INTEGER', 'NULLABLE', None, (), None), SchemaField('date', 'TIMESTAMP', 'NULLABLE', None, (), None)), None),\n",
       " SchemaField('subject', 'STRING', 'NULLABLE', None, (), None),\n",
       " SchemaField('message', 'STRING', 'NULLABLE', None, (), None),\n",
       " SchemaField('trailer', 'RECORD', 'REPEATED', None, (SchemaField('key', 'STRING', 'NULLABLE', None, (), None), SchemaField('value', 'STRING', 'NULLABLE', None, (), None), SchemaField('email', 'STRING', 'NULLABLE', None, (), None)), None),\n",
       " SchemaField('difference', 'RECORD', 'REPEATED', None, (SchemaField('old_mode', 'INTEGER', 'NULLABLE', None, (), None), SchemaField('new_mode', 'INTEGER', 'NULLABLE', None, (), None), SchemaField('old_path', 'STRING', 'NULLABLE', None, (), None), SchemaField('new_path', 'STRING', 'NULLABLE', None, (), None), SchemaField('old_sha1', 'STRING', 'NULLABLE', None, (), None), SchemaField('new_sha1', 'STRING', 'NULLABLE', None, (), None), SchemaField('old_repo', 'STRING', 'NULLABLE', None, (), None), SchemaField('new_repo', 'STRING', 'NULLABLE', None, (), None)), None),\n",
       " SchemaField('difference_truncated', 'BOOLEAN', 'NULLABLE', None, (), None),\n",
       " SchemaField('repo_name', 'STRING', 'NULLABLE', None, (), None),\n",
       " SchemaField('encoding', 'STRING', 'NULLABLE', None, (), None)]"
      ]
     },
     "execution_count": 3,
     "metadata": {},
     "output_type": "execute_result"
    }
   ],
   "source": [
    "# Print information on all the columns in the table\n",
    "sample_commits_table.schema"
   ]
  },
  {
   "cell_type": "markdown",
   "id": "543a4bca",
   "metadata": {
    "papermill": {
     "duration": 0.022866,
     "end_time": "2022-03-21T01:59:28.854699",
     "exception": false,
     "start_time": "2022-03-21T01:59:28.831833",
     "status": "completed"
    },
    "tags": []
   },
   "source": [
    "Write a query to find the individuals with the most commits in this table in 2016.  Your query should return a table with two columns:\n",
    "- `committer_name` - contains the name of each individual with a commit (from 2016) in the table\n",
    "- `num_commits` - shows the number of commits the individual has in the table (from 2016)\n",
    "\n",
    "Sort the table, so that people with more commits appear first.\n",
    "\n",
    "**NOTE**: You can find the name of each committer and the date of the commit under the \"committer\" column, in the \"name\" and \"date\" child fields, respectively."
   ]
  },
  {
   "cell_type": "code",
   "execution_count": 4,
   "id": "24fa6f79",
   "metadata": {
    "execution": {
     "iopub.execute_input": "2022-03-21T01:59:28.909284Z",
     "iopub.status.busy": "2022-03-21T01:59:28.908639Z",
     "iopub.status.idle": "2022-03-21T01:59:29.962821Z",
     "shell.execute_reply": "2022-03-21T01:59:29.962164Z",
     "shell.execute_reply.started": "2022-03-21T01:46:12.539079Z"
    },
    "papermill": {
     "duration": 1.085232,
     "end_time": "2022-03-21T01:59:29.962971",
     "exception": false,
     "start_time": "2022-03-21T01:59:28.877739",
     "status": "completed"
    },
    "tags": []
   },
   "outputs": [
    {
     "name": "stderr",
     "output_type": "stream",
     "text": [
      "/opt/conda/lib/python3.7/site-packages/google/cloud/bigquery/client.py:440: UserWarning: Cannot create BigQuery Storage client, the dependency google-cloud-bigquery-storage is not installed.\n",
      "  \"Cannot create BigQuery Storage client, the dependency \"\n"
     ]
    },
    {
     "data": {
      "text/html": [
       "<div>\n",
       "<style scoped>\n",
       "    .dataframe tbody tr th:only-of-type {\n",
       "        vertical-align: middle;\n",
       "    }\n",
       "\n",
       "    .dataframe tbody tr th {\n",
       "        vertical-align: top;\n",
       "    }\n",
       "\n",
       "    .dataframe thead th {\n",
       "        text-align: right;\n",
       "    }\n",
       "</style>\n",
       "<table border=\"1\" class=\"dataframe\">\n",
       "  <thead>\n",
       "    <tr style=\"text-align: right;\">\n",
       "      <th></th>\n",
       "      <th>committer_name</th>\n",
       "      <th>num_commits</th>\n",
       "    </tr>\n",
       "  </thead>\n",
       "  <tbody>\n",
       "    <tr>\n",
       "      <th>0</th>\n",
       "      <td>Greg Kroah-Hartman</td>\n",
       "      <td>3545</td>\n",
       "    </tr>\n",
       "    <tr>\n",
       "      <th>1</th>\n",
       "      <td>David S. Miller</td>\n",
       "      <td>3120</td>\n",
       "    </tr>\n",
       "    <tr>\n",
       "      <th>2</th>\n",
       "      <td>TensorFlower Gardener</td>\n",
       "      <td>2449</td>\n",
       "    </tr>\n",
       "    <tr>\n",
       "      <th>3</th>\n",
       "      <td>Linus Torvalds</td>\n",
       "      <td>2424</td>\n",
       "    </tr>\n",
       "    <tr>\n",
       "      <th>4</th>\n",
       "      <td>Benjamin Pasero</td>\n",
       "      <td>1127</td>\n",
       "    </tr>\n",
       "  </tbody>\n",
       "</table>\n",
       "</div>"
      ],
      "text/plain": [
       "          committer_name  num_commits\n",
       "0     Greg Kroah-Hartman         3545\n",
       "1        David S. Miller         3120\n",
       "2  TensorFlower Gardener         2449\n",
       "3         Linus Torvalds         2424\n",
       "4        Benjamin Pasero         1127"
      ]
     },
     "metadata": {},
     "output_type": "display_data"
    },
    {
     "data": {
      "application/javascript": [
       "parent.postMessage({\"jupyterEvent\": \"custom.exercise_interaction\", \"data\": {\"outcomeType\": 1, \"valueTowardsCompletion\": 0.25, \"interactionType\": 1, \"questionType\": 2, \"questionId\": \"1_MaxCommits\", \"learnToolsVersion\": \"0.3.4\", \"failureMessage\": \"\", \"exceptionClass\": \"\", \"trace\": \"\"}}, \"*\")"
      ],
      "text/plain": [
       "<IPython.core.display.Javascript object>"
      ]
     },
     "metadata": {},
     "output_type": "display_data"
    },
    {
     "data": {
      "text/markdown": [
       "<span style=\"color:#33cc33\">Correct</span>"
      ],
      "text/plain": [
       "Correct"
      ]
     },
     "metadata": {},
     "output_type": "display_data"
    }
   ],
   "source": [
    "# Write a query to find the answer\n",
    "max_commits_query = \"\"\"\n",
    "                    SELECT committer.name  AS committer_name,\n",
    "                             COUNT(*) AS num_commits \n",
    "                    FROM `bigquery-public-data.github_repos.sample_commits`\n",
    "                    WHERE committer.date >= '2016-01-01' AND committer.date < '2017-01-01'\n",
    "                    GROUP BY committer_name\n",
    "                    ORDER BY num_commits DESC\n",
    "                    \"\"\"\n",
    "\n",
    "# Check your answer\n",
    "q_1.check()"
   ]
  },
  {
   "cell_type": "code",
   "execution_count": 5,
   "id": "14c50e98",
   "metadata": {
    "execution": {
     "iopub.execute_input": "2022-03-21T01:59:30.018614Z",
     "iopub.status.busy": "2022-03-21T01:59:30.017552Z",
     "iopub.status.idle": "2022-03-21T01:59:30.019682Z",
     "shell.execute_reply": "2022-03-21T01:59:30.020161Z",
     "shell.execute_reply.started": "2022-03-21T01:47:31.041161Z"
    },
    "papermill": {
     "duration": 0.031871,
     "end_time": "2022-03-21T01:59:30.020329",
     "exception": false,
     "start_time": "2022-03-21T01:59:29.988458",
     "status": "completed"
    },
    "tags": []
   },
   "outputs": [],
   "source": [
    "# Lines below will give you a hint or solution code\n",
    "# q_1.hint()\n",
    "# q_1.solution()"
   ]
  },
  {
   "cell_type": "markdown",
   "id": "9587405c",
   "metadata": {
    "papermill": {
     "duration": 0.025337,
     "end_time": "2022-03-21T01:59:30.072917",
     "exception": false,
     "start_time": "2022-03-21T01:59:30.047580",
     "status": "completed"
    },
    "tags": []
   },
   "source": [
    "### 2) Look at languages!\n",
    "\n",
    "Now you will work with the `languages` table.  Run the code cell below to print the first few rows."
   ]
  },
  {
   "cell_type": "code",
   "execution_count": 6,
   "id": "c8be6c00",
   "metadata": {
    "execution": {
     "iopub.execute_input": "2022-03-21T01:59:30.132705Z",
     "iopub.status.busy": "2022-03-21T01:59:30.132009Z",
     "iopub.status.idle": "2022-03-21T01:59:30.817579Z",
     "shell.execute_reply": "2022-03-21T01:59:30.818058Z",
     "shell.execute_reply.started": "2022-03-21T01:47:37.294377Z"
    },
    "papermill": {
     "duration": 0.719143,
     "end_time": "2022-03-21T01:59:30.818216",
     "exception": false,
     "start_time": "2022-03-21T01:59:30.099073",
     "status": "completed"
    },
    "tags": []
   },
   "outputs": [
    {
     "name": "stderr",
     "output_type": "stream",
     "text": [
      "/opt/conda/lib/python3.7/site-packages/ipykernel_launcher.py:8: UserWarning: Cannot use bqstorage_client if max_results is set, reverting to fetching data with the tabledata.list endpoint.\n",
      "  \n"
     ]
    },
    {
     "data": {
      "text/html": [
       "<div>\n",
       "<style scoped>\n",
       "    .dataframe tbody tr th:only-of-type {\n",
       "        vertical-align: middle;\n",
       "    }\n",
       "\n",
       "    .dataframe tbody tr th {\n",
       "        vertical-align: top;\n",
       "    }\n",
       "\n",
       "    .dataframe thead th {\n",
       "        text-align: right;\n",
       "    }\n",
       "</style>\n",
       "<table border=\"1\" class=\"dataframe\">\n",
       "  <thead>\n",
       "    <tr style=\"text-align: right;\">\n",
       "      <th></th>\n",
       "      <th>repo_name</th>\n",
       "      <th>language</th>\n",
       "    </tr>\n",
       "  </thead>\n",
       "  <tbody>\n",
       "    <tr>\n",
       "      <th>0</th>\n",
       "      <td>nccgroup/Watson</td>\n",
       "      <td>[{'name': 'C', 'bytes': 17250}]</td>\n",
       "    </tr>\n",
       "    <tr>\n",
       "      <th>1</th>\n",
       "      <td>Utodev/SP2SCE</td>\n",
       "      <td>[{'name': 'C', 'bytes': 23287}]</td>\n",
       "    </tr>\n",
       "    <tr>\n",
       "      <th>2</th>\n",
       "      <td>raziel7/operating_systems</td>\n",
       "      <td>[{'name': 'C', 'bytes': 2289}]</td>\n",
       "    </tr>\n",
       "    <tr>\n",
       "      <th>3</th>\n",
       "      <td>everpi/ADXL345</td>\n",
       "      <td>[{'name': 'C', 'bytes': 2416}]</td>\n",
       "    </tr>\n",
       "    <tr>\n",
       "      <th>4</th>\n",
       "      <td>frolv/interject</td>\n",
       "      <td>[{'name': 'C', 'bytes': 6066}]</td>\n",
       "    </tr>\n",
       "  </tbody>\n",
       "</table>\n",
       "</div>"
      ],
      "text/plain": [
       "                   repo_name                         language\n",
       "0            nccgroup/Watson  [{'name': 'C', 'bytes': 17250}]\n",
       "1              Utodev/SP2SCE  [{'name': 'C', 'bytes': 23287}]\n",
       "2  raziel7/operating_systems   [{'name': 'C', 'bytes': 2289}]\n",
       "3             everpi/ADXL345   [{'name': 'C', 'bytes': 2416}]\n",
       "4            frolv/interject   [{'name': 'C', 'bytes': 6066}]"
      ]
     },
     "execution_count": 6,
     "metadata": {},
     "output_type": "execute_result"
    }
   ],
   "source": [
    "# Construct a reference to the \"languages\" table\n",
    "table_ref = dataset_ref.table(\"languages\")\n",
    "\n",
    "# API request - fetch the table\n",
    "languages_table = client.get_table(table_ref)\n",
    "\n",
    "# Preview the first five lines of the table\n",
    "client.list_rows(languages_table, max_results=5).to_dataframe()"
   ]
  },
  {
   "cell_type": "markdown",
   "id": "13efd8f8",
   "metadata": {
    "papermill": {
     "duration": 0.026181,
     "end_time": "2022-03-21T01:59:30.870925",
     "exception": false,
     "start_time": "2022-03-21T01:59:30.844744",
     "status": "completed"
    },
    "tags": []
   },
   "source": [
    "Each row of the `languages` table corresponds to a different repository.  \n",
    "- The \"repo_name\" column contains the name of the repository,\n",
    "- the \"name\" field in the \"language\" column contains the programming languages that can be found in the repo, and \n",
    "- the \"bytes\" field in the \"language\" column has the size of the files (in bytes, for the corresponding language).\n",
    "\n",
    "Run the following code cell to print the table schema."
   ]
  },
  {
   "cell_type": "code",
   "execution_count": 7,
   "id": "4fbfda86",
   "metadata": {
    "execution": {
     "iopub.execute_input": "2022-03-21T01:59:30.929753Z",
     "iopub.status.busy": "2022-03-21T01:59:30.928746Z",
     "iopub.status.idle": "2022-03-21T01:59:30.933023Z",
     "shell.execute_reply": "2022-03-21T01:59:30.932537Z",
     "shell.execute_reply.started": "2022-03-21T01:49:12.289604Z"
    },
    "papermill": {
     "duration": 0.035908,
     "end_time": "2022-03-21T01:59:30.933166",
     "exception": false,
     "start_time": "2022-03-21T01:59:30.897258",
     "status": "completed"
    },
    "tags": []
   },
   "outputs": [
    {
     "data": {
      "text/plain": [
       "[SchemaField('repo_name', 'STRING', 'NULLABLE', None, (), None),\n",
       " SchemaField('language', 'RECORD', 'REPEATED', None, (SchemaField('name', 'STRING', 'NULLABLE', None, (), None), SchemaField('bytes', 'INTEGER', 'NULLABLE', None, (), None)), None)]"
      ]
     },
     "execution_count": 7,
     "metadata": {},
     "output_type": "execute_result"
    }
   ],
   "source": [
    "# Print information on all the columns in the table\n",
    "languages_table.schema"
   ]
  },
  {
   "cell_type": "markdown",
   "id": "4a78f12e",
   "metadata": {
    "papermill": {
     "duration": 0.027326,
     "end_time": "2022-03-21T01:59:30.987786",
     "exception": false,
     "start_time": "2022-03-21T01:59:30.960460",
     "status": "completed"
    },
    "tags": []
   },
   "source": [
    "Assume for the moment that you have access to a table called `sample_languages` that contains only a very small subset of the rows from the `languages` table: in fact, it contains only three rows!  This table is depicted in the image below.\n",
    "\n",
    "![](https://i.imgur.com/qAb5lZ2.png)\n",
    "\n",
    "How many rows are in the table returned by the query below?\n",
    "\n",
    "![](https://i.imgur.com/Q5qYAtz.png)\n",
    "\n",
    "Fill in your answer in the next code cell."
   ]
  },
  {
   "cell_type": "code",
   "execution_count": 8,
   "id": "581d8513",
   "metadata": {
    "execution": {
     "iopub.execute_input": "2022-03-21T01:59:31.047531Z",
     "iopub.status.busy": "2022-03-21T01:59:31.046558Z",
     "iopub.status.idle": "2022-03-21T01:59:31.051854Z",
     "shell.execute_reply": "2022-03-21T01:59:31.052409Z",
     "shell.execute_reply.started": "2022-03-21T01:58:45.778305Z"
    },
    "papermill": {
     "duration": 0.037911,
     "end_time": "2022-03-21T01:59:31.052578",
     "exception": false,
     "start_time": "2022-03-21T01:59:31.014667",
     "status": "completed"
    },
    "tags": []
   },
   "outputs": [
    {
     "data": {
      "application/javascript": [
       "parent.postMessage({\"jupyterEvent\": \"custom.exercise_interaction\", \"data\": {\"outcomeType\": 1, \"valueTowardsCompletion\": 0.25, \"interactionType\": 1, \"questionType\": 1, \"questionId\": \"2_LookLang\", \"learnToolsVersion\": \"0.3.4\", \"failureMessage\": \"\", \"exceptionClass\": \"\", \"trace\": \"\"}}, \"*\")"
      ],
      "text/plain": [
       "<IPython.core.display.Javascript object>"
      ]
     },
     "metadata": {},
     "output_type": "display_data"
    },
    {
     "data": {
      "text/markdown": [
       "<span style=\"color:#33cc33\">Correct</span>"
      ],
      "text/plain": [
       "Correct"
      ]
     },
     "metadata": {},
     "output_type": "display_data"
    }
   ],
   "source": [
    "# Fill in the blank\n",
    "num_rows = 6\n",
    "\n",
    "# Check your answer\n",
    "q_2.check()"
   ]
  },
  {
   "cell_type": "code",
   "execution_count": 9,
   "id": "d3658f95",
   "metadata": {
    "execution": {
     "iopub.execute_input": "2022-03-21T01:59:31.113190Z",
     "iopub.status.busy": "2022-03-21T01:59:31.112585Z",
     "iopub.status.idle": "2022-03-21T01:59:31.115037Z",
     "shell.execute_reply": "2022-03-21T01:59:31.114482Z",
     "shell.execute_reply.started": "2022-03-21T01:58:09.410480Z"
    },
    "papermill": {
     "duration": 0.034525,
     "end_time": "2022-03-21T01:59:31.115165",
     "exception": false,
     "start_time": "2022-03-21T01:59:31.080640",
     "status": "completed"
    },
    "tags": []
   },
   "outputs": [],
   "source": [
    "# Lines below will give you a hint or solution code\n",
    "# q_2.hint()\n",
    "# q_2.solution()"
   ]
  },
  {
   "cell_type": "markdown",
   "id": "04edf85c",
   "metadata": {
    "papermill": {
     "duration": 0.029283,
     "end_time": "2022-03-21T01:59:31.172895",
     "exception": false,
     "start_time": "2022-03-21T01:59:31.143612",
     "status": "completed"
    },
    "tags": []
   },
   "source": [
    "### 3) What's the most popular programming language?\n",
    "\n",
    "Write a query to leverage the information in the `languages` table to determine which programming languages appear in the most repositories.  The table returned by your query should have two columns:\n",
    "- `language_name` - the name of the programming language\n",
    "- `num_repos` - the number of repositories in the `languages` table that use the programming language\n",
    "\n",
    "Sort the table so that languages that appear in more repos are shown first."
   ]
  },
  {
   "cell_type": "code",
   "execution_count": 10,
   "id": "018f079b",
   "metadata": {
    "execution": {
     "iopub.execute_input": "2022-03-21T01:59:31.235909Z",
     "iopub.status.busy": "2022-03-21T01:59:31.235179Z",
     "iopub.status.idle": "2022-03-21T01:59:31.584095Z",
     "shell.execute_reply": "2022-03-21T01:59:31.583546Z"
    },
    "papermill": {
     "duration": 0.383125,
     "end_time": "2022-03-21T01:59:31.584239",
     "exception": false,
     "start_time": "2022-03-21T01:59:31.201114",
     "status": "completed"
    },
    "tags": []
   },
   "outputs": [
    {
     "data": {
      "application/javascript": [
       "parent.postMessage({\"jupyterEvent\": \"custom.exercise_interaction\", \"data\": {\"outcomeType\": 2, \"failureMessage\": \"You don't have a valid query yet.  Try again.\", \"interactionType\": 1, \"questionType\": 2, \"questionId\": \"3_PopLang\", \"learnToolsVersion\": \"0.3.4\", \"valueTowardsCompletion\": 0.0, \"exceptionClass\": \"\", \"trace\": \"\"}}, \"*\")"
      ],
      "text/plain": [
       "<IPython.core.display.Javascript object>"
      ]
     },
     "metadata": {},
     "output_type": "display_data"
    },
    {
     "data": {
      "text/markdown": [
       "<span style=\"color:#cc3333\">Incorrect:</span> You don't have a valid query yet.  Try again."
      ],
      "text/plain": [
       "Incorrect: You don't have a valid query yet.  Try again."
      ]
     },
     "metadata": {},
     "output_type": "display_data"
    }
   ],
   "source": [
    "# Write a query to find the answer\n",
    "pop_lang_query = \"\"\"\n",
    "                 \"\"\"\n",
    "\n",
    "# Check your answer\n",
    "q_3.check()"
   ]
  },
  {
   "cell_type": "code",
   "execution_count": 11,
   "id": "56573691",
   "metadata": {
    "execution": {
     "iopub.execute_input": "2022-03-21T01:59:31.649045Z",
     "iopub.status.busy": "2022-03-21T01:59:31.648119Z",
     "iopub.status.idle": "2022-03-21T01:59:31.650597Z",
     "shell.execute_reply": "2022-03-21T01:59:31.651038Z"
    },
    "papermill": {
     "duration": 0.036924,
     "end_time": "2022-03-21T01:59:31.651194",
     "exception": false,
     "start_time": "2022-03-21T01:59:31.614270",
     "status": "completed"
    },
    "tags": []
   },
   "outputs": [],
   "source": [
    "# Lines below will give you a hint or solution code\n",
    "#q_3.hint()\n",
    "#q_3.solution()"
   ]
  },
  {
   "cell_type": "markdown",
   "id": "b775932c",
   "metadata": {
    "papermill": {
     "duration": 0.029388,
     "end_time": "2022-03-21T01:59:31.711175",
     "exception": false,
     "start_time": "2022-03-21T01:59:31.681787",
     "status": "completed"
    },
    "tags": []
   },
   "source": [
    "### 4) Which languages are used in the repository with the most languages?\n",
    "\n",
    "For this question, you'll restrict your attention to the repository with name `'polyrabbit/polyglot'`.\n",
    "\n",
    "Write a query that returns a table with one row for each language in this repository.  The table should have two columns:\n",
    "- `name` - the name of the programming language\n",
    "- `bytes` - the total number of bytes of that programming language\n",
    "\n",
    "Sort the table by the `bytes` column so that programming languages that take up more space in the repo appear first."
   ]
  },
  {
   "cell_type": "code",
   "execution_count": 12,
   "id": "7824d23d",
   "metadata": {
    "execution": {
     "iopub.execute_input": "2022-03-21T01:59:31.777680Z",
     "iopub.status.busy": "2022-03-21T01:59:31.777002Z",
     "iopub.status.idle": "2022-03-21T01:59:32.041992Z",
     "shell.execute_reply": "2022-03-21T01:59:32.042510Z"
    },
    "papermill": {
     "duration": 0.302034,
     "end_time": "2022-03-21T01:59:32.042681",
     "exception": false,
     "start_time": "2022-03-21T01:59:31.740647",
     "status": "completed"
    },
    "tags": []
   },
   "outputs": [
    {
     "data": {
      "application/javascript": [
       "parent.postMessage({\"jupyterEvent\": \"custom.exercise_interaction\", \"data\": {\"outcomeType\": 2, \"failureMessage\": \"You don't have a valid query yet.  Try again.\", \"interactionType\": 1, \"questionType\": 2, \"questionId\": \"4_AllLangs\", \"learnToolsVersion\": \"0.3.4\", \"valueTowardsCompletion\": 0.0, \"exceptionClass\": \"\", \"trace\": \"\"}}, \"*\")"
      ],
      "text/plain": [
       "<IPython.core.display.Javascript object>"
      ]
     },
     "metadata": {},
     "output_type": "display_data"
    },
    {
     "data": {
      "text/markdown": [
       "<span style=\"color:#cc3333\">Incorrect:</span> You don't have a valid query yet.  Try again."
      ],
      "text/plain": [
       "Incorrect: You don't have a valid query yet.  Try again."
      ]
     },
     "metadata": {},
     "output_type": "display_data"
    }
   ],
   "source": [
    "# Your code here\n",
    "all_langs_query = \"\"\"\n",
    "                  \"\"\"\n",
    "\n",
    "# Check your answer\n",
    "q_4.check()"
   ]
  },
  {
   "cell_type": "code",
   "execution_count": 13,
   "id": "b21236e8",
   "metadata": {
    "execution": {
     "iopub.execute_input": "2022-03-21T01:59:32.111735Z",
     "iopub.status.busy": "2022-03-21T01:59:32.110833Z",
     "iopub.status.idle": "2022-03-21T01:59:32.113259Z",
     "shell.execute_reply": "2022-03-21T01:59:32.113741Z"
    },
    "papermill": {
     "duration": 0.039208,
     "end_time": "2022-03-21T01:59:32.113907",
     "exception": false,
     "start_time": "2022-03-21T01:59:32.074699",
     "status": "completed"
    },
    "tags": []
   },
   "outputs": [],
   "source": [
    "# Lines below will give you a hint or solution code\n",
    "#q_4.hint()\n",
    "#q_4.solution()"
   ]
  },
  {
   "cell_type": "markdown",
   "id": "a8afd166",
   "metadata": {
    "papermill": {
     "duration": 0.030979,
     "end_time": "2022-03-21T01:59:32.176254",
     "exception": false,
     "start_time": "2022-03-21T01:59:32.145275",
     "status": "completed"
    },
    "tags": []
   },
   "source": [
    "# Keep going\n",
    "\n",
    "Learn how to make your queries **[more efficient](https://www.kaggle.com/alexisbcook/writing-efficient-queries)**."
   ]
  },
  {
   "cell_type": "markdown",
   "id": "50e08a67",
   "metadata": {
    "papermill": {
     "duration": 0.030911,
     "end_time": "2022-03-21T01:59:32.238299",
     "exception": false,
     "start_time": "2022-03-21T01:59:32.207388",
     "status": "completed"
    },
    "tags": []
   },
   "source": [
    "---\n",
    "\n",
    "\n",
    "\n",
    "\n",
    "*Have questions or comments? Visit the [course discussion forum](https://www.kaggle.com/learn/advanced-sql/discussion) to chat with other learners.*"
   ]
  }
 ],
 "metadata": {
  "kernelspec": {
   "display_name": "Python 3",
   "language": "python",
   "name": "python3"
  },
  "language_info": {
   "codemirror_mode": {
    "name": "ipython",
    "version": 3
   },
   "file_extension": ".py",
   "mimetype": "text/x-python",
   "name": "python",
   "nbconvert_exporter": "python",
   "pygments_lexer": "ipython3",
   "version": "3.7.12"
  },
  "papermill": {
   "default_parameters": {},
   "duration": 18.75645,
   "end_time": "2022-03-21T01:59:32.878375",
   "environment_variables": {},
   "exception": null,
   "input_path": "__notebook__.ipynb",
   "output_path": "__notebook__.ipynb",
   "parameters": {},
   "start_time": "2022-03-21T01:59:14.121925",
   "version": "2.3.3"
  }
 },
 "nbformat": 4,
 "nbformat_minor": 5
}
