{
 "cells": [
  {
   "cell_type": "markdown",
   "id": "413302c5",
   "metadata": {
    "papermill": {
     "duration": 0.022384,
     "end_time": "2022-03-21T03:08:38.603345",
     "exception": false,
     "start_time": "2022-03-21T03:08:38.580961",
     "status": "completed"
    },
    "tags": []
   },
   "source": [
    "**This notebook is an exercise in the [Advanced SQL](https://www.kaggle.com/learn/advanced-sql) course.  You can reference the tutorial at [this link](https://www.kaggle.com/alexisbcook/nested-and-repeated-data).**\n",
    "\n",
    "---\n"
   ]
  },
  {
   "cell_type": "markdown",
   "id": "32ebdbdd",
   "metadata": {
    "papermill": {
     "duration": 0.021646,
     "end_time": "2022-03-21T03:08:38.647536",
     "exception": false,
     "start_time": "2022-03-21T03:08:38.625890",
     "status": "completed"
    },
    "tags": []
   },
   "source": [
    "# Introduction\n",
    "\n",
    "Now that you know how to query nested and repeated data, you're ready to draw interesting insights from the [GitHub Repos](https://www.kaggle.com/github/github-repos) dataset.  \n",
    "\n",
    "Before you get started, run the following cell to set everything up."
   ]
  },
  {
   "cell_type": "code",
   "execution_count": 1,
   "id": "424bcecc",
   "metadata": {
    "execution": {
     "iopub.execute_input": "2022-03-21T03:08:38.705881Z",
     "iopub.status.busy": "2022-03-21T03:08:38.704772Z",
     "iopub.status.idle": "2022-03-21T03:08:43.330254Z",
     "shell.execute_reply": "2022-03-21T03:08:43.329523Z",
     "shell.execute_reply.started": "2022-03-21T02:37:59.746374Z"
    },
    "papermill": {
     "duration": 4.660533,
     "end_time": "2022-03-21T03:08:43.330495",
     "exception": false,
     "start_time": "2022-03-21T03:08:38.669962",
     "status": "completed"
    },
    "tags": []
   },
   "outputs": [
    {
     "name": "stdout",
     "output_type": "stream",
     "text": [
      "Using Kaggle's public dataset BigQuery integration.\n"
     ]
    },
    {
     "name": "stderr",
     "output_type": "stream",
     "text": [
      "/opt/conda/lib/python3.7/site-packages/google/cloud/bigquery/client.py:440: UserWarning: Cannot create BigQuery Storage client, the dependency google-cloud-bigquery-storage is not installed.\n",
      "  \"Cannot create BigQuery Storage client, the dependency \"\n"
     ]
    },
    {
     "name": "stdout",
     "output_type": "stream",
     "text": [
      "Setup Complete\n"
     ]
    }
   ],
   "source": [
    "# Set up feedback system\n",
    "from learntools.core import binder\n",
    "binder.bind(globals())\n",
    "from learntools.sql_advanced.ex3 import *\n",
    "print(\"Setup Complete\")"
   ]
  },
  {
   "cell_type": "markdown",
   "id": "641d7a2a",
   "metadata": {
    "papermill": {
     "duration": 0.022279,
     "end_time": "2022-03-21T03:08:43.376999",
     "exception": false,
     "start_time": "2022-03-21T03:08:43.354720",
     "status": "completed"
    },
    "tags": []
   },
   "source": [
    "# Exercises\n",
    "\n",
    "### 1) Who had the most commits in 2016?\n",
    "\n",
    "GitHub is the most popular place to collaborate on software projects. A GitHub **repository** (or repo) is a collection of files associated with a specific project, and a GitHub **commit** is a change that a user has made to a repository.  We refer to the user as a **committer**.\n",
    "\n",
    "The `sample_commits` table contains a small sample of GitHub commits, where each row corresponds to different commit.  The code cell below fetches the table and shows the first five rows of this table."
   ]
  },
  {
   "cell_type": "code",
   "execution_count": 2,
   "id": "8c4b2ada",
   "metadata": {
    "execution": {
     "iopub.execute_input": "2022-03-21T03:08:43.425209Z",
     "iopub.status.busy": "2022-03-21T03:08:43.424485Z",
     "iopub.status.idle": "2022-03-21T03:08:45.085832Z",
     "shell.execute_reply": "2022-03-21T03:08:45.086385Z",
     "shell.execute_reply.started": "2022-03-21T02:38:04.248006Z"
    },
    "papermill": {
     "duration": 1.687386,
     "end_time": "2022-03-21T03:08:45.086572",
     "exception": false,
     "start_time": "2022-03-21T03:08:43.399186",
     "status": "completed"
    },
    "tags": []
   },
   "outputs": [
    {
     "name": "stdout",
     "output_type": "stream",
     "text": [
      "Using Kaggle's public dataset BigQuery integration.\n"
     ]
    },
    {
     "name": "stderr",
     "output_type": "stream",
     "text": [
      "/opt/conda/lib/python3.7/site-packages/ipykernel_launcher.py:19: UserWarning: Cannot use bqstorage_client if max_results is set, reverting to fetching data with the tabledata.list endpoint.\n"
     ]
    },
    {
     "data": {
      "text/html": [
       "<div>\n",
       "<style scoped>\n",
       "    .dataframe tbody tr th:only-of-type {\n",
       "        vertical-align: middle;\n",
       "    }\n",
       "\n",
       "    .dataframe tbody tr th {\n",
       "        vertical-align: top;\n",
       "    }\n",
       "\n",
       "    .dataframe thead th {\n",
       "        text-align: right;\n",
       "    }\n",
       "</style>\n",
       "<table border=\"1\" class=\"dataframe\">\n",
       "  <thead>\n",
       "    <tr style=\"text-align: right;\">\n",
       "      <th></th>\n",
       "      <th>commit</th>\n",
       "      <th>tree</th>\n",
       "      <th>parent</th>\n",
       "      <th>author</th>\n",
       "      <th>committer</th>\n",
       "      <th>subject</th>\n",
       "      <th>message</th>\n",
       "      <th>trailer</th>\n",
       "      <th>difference</th>\n",
       "      <th>difference_truncated</th>\n",
       "      <th>repo_name</th>\n",
       "      <th>encoding</th>\n",
       "    </tr>\n",
       "  </thead>\n",
       "  <tbody>\n",
       "    <tr>\n",
       "      <th>0</th>\n",
       "      <td>3eca86e75ec7a7d4b9a9c8091b11676f7bd2a39f</td>\n",
       "      <td>8e1b4380409a85a922ee0d3f622b5dd4d16bcfad</td>\n",
       "      <td>[104a0c02e8b1936c049e18a6d4e4ab040fb61213]</td>\n",
       "      <td>{'name': 'Mark Rutland', 'email': '1db9dd262be...</td>\n",
       "      <td>{'name': 'Catalin Marinas', 'email': '15ce75b2...</td>\n",
       "      <td>arm64: Remove fixmap include fragility</td>\n",
       "      <td>arm64: Remove fixmap include fragility\\n\\nThe ...</td>\n",
       "      <td>[{'key': 'Signed-off-by', 'value': 'Mark Rutla...</td>\n",
       "      <td>[{'old_mode': 33188.0, 'new_mode': 33188.0, 'o...</td>\n",
       "      <td>None</td>\n",
       "      <td>torvalds/linux</td>\n",
       "      <td>None</td>\n",
       "    </tr>\n",
       "    <tr>\n",
       "      <th>1</th>\n",
       "      <td>7158627686f02319c50c8d9d78f75d4c8d126ff2</td>\n",
       "      <td>3b4d781bd966f07cad1b67b137f0ff8b89430e9a</td>\n",
       "      <td>[66aa8d6a145b6a66566b4fce219cc56c3d0e01c3]</td>\n",
       "      <td>{'name': 'Will Deacon', 'email': 'b913f13ef92a...</td>\n",
       "      <td>{'name': 'Catalin Marinas', 'email': '15ce75b2...</td>\n",
       "      <td>arm64: percpu: implement optimised pcpu access...</td>\n",
       "      <td>arm64: percpu: implement optimised pcpu access...</td>\n",
       "      <td>[{'key': 'Signed-off-by', 'value': 'Will Deaco...</td>\n",
       "      <td>[{'old_mode': 33188.0, 'new_mode': 33188.0, 'o...</td>\n",
       "      <td>None</td>\n",
       "      <td>torvalds/linux</td>\n",
       "      <td>None</td>\n",
       "    </tr>\n",
       "    <tr>\n",
       "      <th>2</th>\n",
       "      <td>9732cafd9dc0206479be919baf0067239f0a63ca</td>\n",
       "      <td>c8878035ac9cb6dce592957f12dc1723a583989d</td>\n",
       "      <td>[f3c003f72dfb2497056bcbb864885837a1968ed5]</td>\n",
       "      <td>{'name': 'Jiang Liu', 'email': 'c745fa7b96fe79...</td>\n",
       "      <td>{'name': 'Catalin Marinas', 'email': '15ce75b2...</td>\n",
       "      <td>arm64, jump label: optimize jump label impleme...</td>\n",
       "      <td>arm64, jump label: optimize jump label impleme...</td>\n",
       "      <td>[{'key': 'Reviewed-by', 'value': 'Will Deacon ...</td>\n",
       "      <td>[{'old_mode': 33188.0, 'new_mode': 33188.0, 'o...</td>\n",
       "      <td>None</td>\n",
       "      <td>torvalds/linux</td>\n",
       "      <td>None</td>\n",
       "    </tr>\n",
       "    <tr>\n",
       "      <th>3</th>\n",
       "      <td>4702abd3f9728893ad5b0f4389e1902588510459</td>\n",
       "      <td>32926e7c55ef585d9b9c174a0e5f9ed13ed6bf7e</td>\n",
       "      <td>[ddf28352b80c86754a6424e3a61e8bdf9213b3c7]</td>\n",
       "      <td>{'name': 'Nicolas Pitre', 'email': '408789a210...</td>\n",
       "      <td>{'name': 'Arnd Bergmann', 'email': 'f2c659f019...</td>\n",
       "      <td>ARM: mach-nuc93x: delete</td>\n",
       "      <td>ARM: mach-nuc93x: delete\\n\\nThis architecture ...</td>\n",
       "      <td>[{'key': 'Signed-off-by', 'value': 'Nicolas Pi...</td>\n",
       "      <td>[{'old_mode': 33188.0, 'new_mode': 33188.0, 'o...</td>\n",
       "      <td>None</td>\n",
       "      <td>torvalds/linux</td>\n",
       "      <td>None</td>\n",
       "    </tr>\n",
       "    <tr>\n",
       "      <th>4</th>\n",
       "      <td>57bd4b91a6cfc5bad4c5d829ef85293ea63643ea</td>\n",
       "      <td>2ffc2066eb7638e185663e9d849663403229d4e5</td>\n",
       "      <td>[f74c95c20bad8e183e41283475f68a3e7b247af4]</td>\n",
       "      <td>{'name': 'Ben Dooks', 'email': '1177f64998f284...</td>\n",
       "      <td>{'name': 'Ben Dooks', 'email': '1177f64998f284...</td>\n",
       "      <td>[ARM] S3C24XX: Movev udc headers to arch/arm/p...</td>\n",
       "      <td>[ARM] S3C24XX: Movev udc headers to arch/arm/p...</td>\n",
       "      <td>[{'key': 'Signed-off-by', 'value': 'Ben Dooks ...</td>\n",
       "      <td>[{'old_mode': 33188.0, 'new_mode': 33188.0, 'o...</td>\n",
       "      <td>None</td>\n",
       "      <td>torvalds/linux</td>\n",
       "      <td>None</td>\n",
       "    </tr>\n",
       "  </tbody>\n",
       "</table>\n",
       "</div>"
      ],
      "text/plain": [
       "                                     commit  \\\n",
       "0  3eca86e75ec7a7d4b9a9c8091b11676f7bd2a39f   \n",
       "1  7158627686f02319c50c8d9d78f75d4c8d126ff2   \n",
       "2  9732cafd9dc0206479be919baf0067239f0a63ca   \n",
       "3  4702abd3f9728893ad5b0f4389e1902588510459   \n",
       "4  57bd4b91a6cfc5bad4c5d829ef85293ea63643ea   \n",
       "\n",
       "                                       tree  \\\n",
       "0  8e1b4380409a85a922ee0d3f622b5dd4d16bcfad   \n",
       "1  3b4d781bd966f07cad1b67b137f0ff8b89430e9a   \n",
       "2  c8878035ac9cb6dce592957f12dc1723a583989d   \n",
       "3  32926e7c55ef585d9b9c174a0e5f9ed13ed6bf7e   \n",
       "4  2ffc2066eb7638e185663e9d849663403229d4e5   \n",
       "\n",
       "                                       parent  \\\n",
       "0  [104a0c02e8b1936c049e18a6d4e4ab040fb61213]   \n",
       "1  [66aa8d6a145b6a66566b4fce219cc56c3d0e01c3]   \n",
       "2  [f3c003f72dfb2497056bcbb864885837a1968ed5]   \n",
       "3  [ddf28352b80c86754a6424e3a61e8bdf9213b3c7]   \n",
       "4  [f74c95c20bad8e183e41283475f68a3e7b247af4]   \n",
       "\n",
       "                                              author  \\\n",
       "0  {'name': 'Mark Rutland', 'email': '1db9dd262be...   \n",
       "1  {'name': 'Will Deacon', 'email': 'b913f13ef92a...   \n",
       "2  {'name': 'Jiang Liu', 'email': 'c745fa7b96fe79...   \n",
       "3  {'name': 'Nicolas Pitre', 'email': '408789a210...   \n",
       "4  {'name': 'Ben Dooks', 'email': '1177f64998f284...   \n",
       "\n",
       "                                           committer  \\\n",
       "0  {'name': 'Catalin Marinas', 'email': '15ce75b2...   \n",
       "1  {'name': 'Catalin Marinas', 'email': '15ce75b2...   \n",
       "2  {'name': 'Catalin Marinas', 'email': '15ce75b2...   \n",
       "3  {'name': 'Arnd Bergmann', 'email': 'f2c659f019...   \n",
       "4  {'name': 'Ben Dooks', 'email': '1177f64998f284...   \n",
       "\n",
       "                                             subject  \\\n",
       "0             arm64: Remove fixmap include fragility   \n",
       "1  arm64: percpu: implement optimised pcpu access...   \n",
       "2  arm64, jump label: optimize jump label impleme...   \n",
       "3                           ARM: mach-nuc93x: delete   \n",
       "4  [ARM] S3C24XX: Movev udc headers to arch/arm/p...   \n",
       "\n",
       "                                             message  \\\n",
       "0  arm64: Remove fixmap include fragility\\n\\nThe ...   \n",
       "1  arm64: percpu: implement optimised pcpu access...   \n",
       "2  arm64, jump label: optimize jump label impleme...   \n",
       "3  ARM: mach-nuc93x: delete\\n\\nThis architecture ...   \n",
       "4  [ARM] S3C24XX: Movev udc headers to arch/arm/p...   \n",
       "\n",
       "                                             trailer  \\\n",
       "0  [{'key': 'Signed-off-by', 'value': 'Mark Rutla...   \n",
       "1  [{'key': 'Signed-off-by', 'value': 'Will Deaco...   \n",
       "2  [{'key': 'Reviewed-by', 'value': 'Will Deacon ...   \n",
       "3  [{'key': 'Signed-off-by', 'value': 'Nicolas Pi...   \n",
       "4  [{'key': 'Signed-off-by', 'value': 'Ben Dooks ...   \n",
       "\n",
       "                                          difference difference_truncated  \\\n",
       "0  [{'old_mode': 33188.0, 'new_mode': 33188.0, 'o...                 None   \n",
       "1  [{'old_mode': 33188.0, 'new_mode': 33188.0, 'o...                 None   \n",
       "2  [{'old_mode': 33188.0, 'new_mode': 33188.0, 'o...                 None   \n",
       "3  [{'old_mode': 33188.0, 'new_mode': 33188.0, 'o...                 None   \n",
       "4  [{'old_mode': 33188.0, 'new_mode': 33188.0, 'o...                 None   \n",
       "\n",
       "        repo_name encoding  \n",
       "0  torvalds/linux     None  \n",
       "1  torvalds/linux     None  \n",
       "2  torvalds/linux     None  \n",
       "3  torvalds/linux     None  \n",
       "4  torvalds/linux     None  "
      ]
     },
     "execution_count": 2,
     "metadata": {},
     "output_type": "execute_result"
    }
   ],
   "source": [
    "from google.cloud import bigquery\n",
    "\n",
    "# Create a \"Client\" object\n",
    "client = bigquery.Client()\n",
    "\n",
    "# Construct a reference to the \"github_repos\" dataset\n",
    "dataset_ref = client.dataset(\"github_repos\", project=\"bigquery-public-data\")\n",
    "\n",
    "# API request - fetch the dataset\n",
    "dataset = client.get_dataset(dataset_ref)\n",
    "\n",
    "# Construct a reference to the \"sample_commits\" table\n",
    "table_ref = dataset_ref.table(\"sample_commits\")\n",
    "\n",
    "# API request - fetch the table\n",
    "sample_commits_table = client.get_table(table_ref)\n",
    "\n",
    "# Preview the first five lines of the table\n",
    "client.list_rows(sample_commits_table, max_results=5).to_dataframe()"
   ]
  },
  {
   "cell_type": "markdown",
   "id": "0dc52ef2",
   "metadata": {
    "papermill": {
     "duration": 0.024295,
     "end_time": "2022-03-21T03:08:45.135930",
     "exception": false,
     "start_time": "2022-03-21T03:08:45.111635",
     "status": "completed"
    },
    "tags": []
   },
   "source": [
    "Run the next code cell to print the table schema. "
   ]
  },
  {
   "cell_type": "code",
   "execution_count": 3,
   "id": "33c6b53b",
   "metadata": {
    "execution": {
     "iopub.execute_input": "2022-03-21T03:08:45.193031Z",
     "iopub.status.busy": "2022-03-21T03:08:45.191549Z",
     "iopub.status.idle": "2022-03-21T03:08:45.195446Z",
     "shell.execute_reply": "2022-03-21T03:08:45.195954Z",
     "shell.execute_reply.started": "2022-03-21T01:31:50.962133Z"
    },
    "papermill": {
     "duration": 0.035555,
     "end_time": "2022-03-21T03:08:45.196127",
     "exception": false,
     "start_time": "2022-03-21T03:08:45.160572",
     "status": "completed"
    },
    "tags": []
   },
   "outputs": [
    {
     "data": {
      "text/plain": [
       "[SchemaField('commit', 'STRING', 'NULLABLE', None, (), None),\n",
       " SchemaField('tree', 'STRING', 'NULLABLE', None, (), None),\n",
       " SchemaField('parent', 'STRING', 'REPEATED', None, (), None),\n",
       " SchemaField('author', 'RECORD', 'NULLABLE', None, (SchemaField('name', 'STRING', 'NULLABLE', None, (), None), SchemaField('email', 'STRING', 'NULLABLE', None, (), None), SchemaField('time_sec', 'INTEGER', 'NULLABLE', None, (), None), SchemaField('tz_offset', 'INTEGER', 'NULLABLE', None, (), None), SchemaField('date', 'TIMESTAMP', 'NULLABLE', None, (), None)), None),\n",
       " SchemaField('committer', 'RECORD', 'NULLABLE', None, (SchemaField('name', 'STRING', 'NULLABLE', None, (), None), SchemaField('email', 'STRING', 'NULLABLE', None, (), None), SchemaField('time_sec', 'INTEGER', 'NULLABLE', None, (), None), SchemaField('tz_offset', 'INTEGER', 'NULLABLE', None, (), None), SchemaField('date', 'TIMESTAMP', 'NULLABLE', None, (), None)), None),\n",
       " SchemaField('subject', 'STRING', 'NULLABLE', None, (), None),\n",
       " SchemaField('message', 'STRING', 'NULLABLE', None, (), None),\n",
       " SchemaField('trailer', 'RECORD', 'REPEATED', None, (SchemaField('key', 'STRING', 'NULLABLE', None, (), None), SchemaField('value', 'STRING', 'NULLABLE', None, (), None), SchemaField('email', 'STRING', 'NULLABLE', None, (), None)), None),\n",
       " SchemaField('difference', 'RECORD', 'REPEATED', None, (SchemaField('old_mode', 'INTEGER', 'NULLABLE', None, (), None), SchemaField('new_mode', 'INTEGER', 'NULLABLE', None, (), None), SchemaField('old_path', 'STRING', 'NULLABLE', None, (), None), SchemaField('new_path', 'STRING', 'NULLABLE', None, (), None), SchemaField('old_sha1', 'STRING', 'NULLABLE', None, (), None), SchemaField('new_sha1', 'STRING', 'NULLABLE', None, (), None), SchemaField('old_repo', 'STRING', 'NULLABLE', None, (), None), SchemaField('new_repo', 'STRING', 'NULLABLE', None, (), None)), None),\n",
       " SchemaField('difference_truncated', 'BOOLEAN', 'NULLABLE', None, (), None),\n",
       " SchemaField('repo_name', 'STRING', 'NULLABLE', None, (), None),\n",
       " SchemaField('encoding', 'STRING', 'NULLABLE', None, (), None)]"
      ]
     },
     "execution_count": 3,
     "metadata": {},
     "output_type": "execute_result"
    }
   ],
   "source": [
    "# Print information on all the columns in the table\n",
    "sample_commits_table.schema"
   ]
  },
  {
   "cell_type": "markdown",
   "id": "9a2929cd",
   "metadata": {
    "papermill": {
     "duration": 0.024974,
     "end_time": "2022-03-21T03:08:45.246167",
     "exception": false,
     "start_time": "2022-03-21T03:08:45.221193",
     "status": "completed"
    },
    "tags": []
   },
   "source": [
    "Write a query to find the individuals with the most commits in this table in 2016.  Your query should return a table with two columns:\n",
    "- `committer_name` - contains the name of each individual with a commit (from 2016) in the table\n",
    "- `num_commits` - shows the number of commits the individual has in the table (from 2016)\n",
    "\n",
    "Sort the table, so that people with more commits appear first.\n",
    "\n",
    "**NOTE**: You can find the name of each committer and the date of the commit under the \"committer\" column, in the \"name\" and \"date\" child fields, respectively."
   ]
  },
  {
   "cell_type": "code",
   "execution_count": 4,
   "id": "647f7e2f",
   "metadata": {
    "execution": {
     "iopub.execute_input": "2022-03-21T03:08:45.304064Z",
     "iopub.status.busy": "2022-03-21T03:08:45.303331Z",
     "iopub.status.idle": "2022-03-21T03:08:46.900414Z",
     "shell.execute_reply": "2022-03-21T03:08:46.900944Z",
     "shell.execute_reply.started": "2022-03-21T02:38:11.322135Z"
    },
    "papermill": {
     "duration": 1.629993,
     "end_time": "2022-03-21T03:08:46.901140",
     "exception": false,
     "start_time": "2022-03-21T03:08:45.271147",
     "status": "completed"
    },
    "tags": []
   },
   "outputs": [
    {
     "name": "stderr",
     "output_type": "stream",
     "text": [
      "/opt/conda/lib/python3.7/site-packages/google/cloud/bigquery/client.py:440: UserWarning: Cannot create BigQuery Storage client, the dependency google-cloud-bigquery-storage is not installed.\n",
      "  \"Cannot create BigQuery Storage client, the dependency \"\n"
     ]
    },
    {
     "data": {
      "text/html": [
       "<div>\n",
       "<style scoped>\n",
       "    .dataframe tbody tr th:only-of-type {\n",
       "        vertical-align: middle;\n",
       "    }\n",
       "\n",
       "    .dataframe tbody tr th {\n",
       "        vertical-align: top;\n",
       "    }\n",
       "\n",
       "    .dataframe thead th {\n",
       "        text-align: right;\n",
       "    }\n",
       "</style>\n",
       "<table border=\"1\" class=\"dataframe\">\n",
       "  <thead>\n",
       "    <tr style=\"text-align: right;\">\n",
       "      <th></th>\n",
       "      <th>committer_name</th>\n",
       "      <th>num_commits</th>\n",
       "    </tr>\n",
       "  </thead>\n",
       "  <tbody>\n",
       "    <tr>\n",
       "      <th>0</th>\n",
       "      <td>Greg Kroah-Hartman</td>\n",
       "      <td>3545</td>\n",
       "    </tr>\n",
       "    <tr>\n",
       "      <th>1</th>\n",
       "      <td>David S. Miller</td>\n",
       "      <td>3120</td>\n",
       "    </tr>\n",
       "    <tr>\n",
       "      <th>2</th>\n",
       "      <td>TensorFlower Gardener</td>\n",
       "      <td>2449</td>\n",
       "    </tr>\n",
       "    <tr>\n",
       "      <th>3</th>\n",
       "      <td>Linus Torvalds</td>\n",
       "      <td>2424</td>\n",
       "    </tr>\n",
       "    <tr>\n",
       "      <th>4</th>\n",
       "      <td>Benjamin Pasero</td>\n",
       "      <td>1127</td>\n",
       "    </tr>\n",
       "  </tbody>\n",
       "</table>\n",
       "</div>"
      ],
      "text/plain": [
       "          committer_name  num_commits\n",
       "0     Greg Kroah-Hartman         3545\n",
       "1        David S. Miller         3120\n",
       "2  TensorFlower Gardener         2449\n",
       "3         Linus Torvalds         2424\n",
       "4        Benjamin Pasero         1127"
      ]
     },
     "metadata": {},
     "output_type": "display_data"
    },
    {
     "data": {
      "application/javascript": [
       "parent.postMessage({\"jupyterEvent\": \"custom.exercise_interaction\", \"data\": {\"outcomeType\": 1, \"valueTowardsCompletion\": 0.25, \"interactionType\": 1, \"questionType\": 2, \"questionId\": \"1_MaxCommits\", \"learnToolsVersion\": \"0.3.4\", \"failureMessage\": \"\", \"exceptionClass\": \"\", \"trace\": \"\"}}, \"*\")"
      ],
      "text/plain": [
       "<IPython.core.display.Javascript object>"
      ]
     },
     "metadata": {},
     "output_type": "display_data"
    },
    {
     "data": {
      "text/markdown": [
       "<span style=\"color:#33cc33\">Correct</span>"
      ],
      "text/plain": [
       "Correct"
      ]
     },
     "metadata": {},
     "output_type": "display_data"
    }
   ],
   "source": [
    "# Write a query to find the answer\n",
    "max_commits_query = \"\"\"\n",
    "                    SELECT committer.name  AS committer_name,\n",
    "                             COUNT(*) AS num_commits \n",
    "                    FROM `bigquery-public-data.github_repos.sample_commits`\n",
    "                    WHERE committer.date >= '2016-01-01' AND committer.date < '2017-01-01'\n",
    "                    GROUP BY committer_name\n",
    "                    ORDER BY num_commits DESC\n",
    "                    \"\"\"\n",
    "\n",
    "# Check your answer\n",
    "q_1.check()"
   ]
  },
  {
   "cell_type": "code",
   "execution_count": 5,
   "id": "8837c866",
   "metadata": {
    "execution": {
     "iopub.execute_input": "2022-03-21T03:08:46.962095Z",
     "iopub.status.busy": "2022-03-21T03:08:46.961213Z",
     "iopub.status.idle": "2022-03-21T03:08:46.964331Z",
     "shell.execute_reply": "2022-03-21T03:08:46.963672Z",
     "shell.execute_reply.started": "2022-03-21T01:47:31.041161Z"
    },
    "papermill": {
     "duration": 0.036153,
     "end_time": "2022-03-21T03:08:46.964491",
     "exception": false,
     "start_time": "2022-03-21T03:08:46.928338",
     "status": "completed"
    },
    "tags": []
   },
   "outputs": [],
   "source": [
    "# Lines below will give you a hint or solution code\n",
    "# q_1.hint()\n",
    "# q_1.solution()"
   ]
  },
  {
   "cell_type": "markdown",
   "id": "4cbd2128",
   "metadata": {
    "papermill": {
     "duration": 0.02757,
     "end_time": "2022-03-21T03:08:47.018707",
     "exception": false,
     "start_time": "2022-03-21T03:08:46.991137",
     "status": "completed"
    },
    "tags": []
   },
   "source": [
    "### 2) Look at languages!\n",
    "\n",
    "Now you will work with the `languages` table.  Run the code cell below to print the first few rows."
   ]
  },
  {
   "cell_type": "code",
   "execution_count": 6,
   "id": "4eae9daa",
   "metadata": {
    "execution": {
     "iopub.execute_input": "2022-03-21T03:08:47.085089Z",
     "iopub.status.busy": "2022-03-21T03:08:47.084436Z",
     "iopub.status.idle": "2022-03-21T03:08:47.983488Z",
     "shell.execute_reply": "2022-03-21T03:08:47.982926Z",
     "shell.execute_reply.started": "2022-03-21T02:38:16.804112Z"
    },
    "papermill": {
     "duration": 0.936711,
     "end_time": "2022-03-21T03:08:47.983644",
     "exception": false,
     "start_time": "2022-03-21T03:08:47.046933",
     "status": "completed"
    },
    "tags": []
   },
   "outputs": [
    {
     "name": "stderr",
     "output_type": "stream",
     "text": [
      "/opt/conda/lib/python3.7/site-packages/ipykernel_launcher.py:8: UserWarning: Cannot use bqstorage_client if max_results is set, reverting to fetching data with the tabledata.list endpoint.\n",
      "  \n"
     ]
    },
    {
     "data": {
      "text/html": [
       "<div>\n",
       "<style scoped>\n",
       "    .dataframe tbody tr th:only-of-type {\n",
       "        vertical-align: middle;\n",
       "    }\n",
       "\n",
       "    .dataframe tbody tr th {\n",
       "        vertical-align: top;\n",
       "    }\n",
       "\n",
       "    .dataframe thead th {\n",
       "        text-align: right;\n",
       "    }\n",
       "</style>\n",
       "<table border=\"1\" class=\"dataframe\">\n",
       "  <thead>\n",
       "    <tr style=\"text-align: right;\">\n",
       "      <th></th>\n",
       "      <th>repo_name</th>\n",
       "      <th>language</th>\n",
       "    </tr>\n",
       "  </thead>\n",
       "  <tbody>\n",
       "    <tr>\n",
       "      <th>0</th>\n",
       "      <td>nccgroup/Watson</td>\n",
       "      <td>[{'name': 'C', 'bytes': 17250}]</td>\n",
       "    </tr>\n",
       "    <tr>\n",
       "      <th>1</th>\n",
       "      <td>Utodev/SP2SCE</td>\n",
       "      <td>[{'name': 'C', 'bytes': 23287}]</td>\n",
       "    </tr>\n",
       "    <tr>\n",
       "      <th>2</th>\n",
       "      <td>raziel7/operating_systems</td>\n",
       "      <td>[{'name': 'C', 'bytes': 2289}]</td>\n",
       "    </tr>\n",
       "    <tr>\n",
       "      <th>3</th>\n",
       "      <td>everpi/ADXL345</td>\n",
       "      <td>[{'name': 'C', 'bytes': 2416}]</td>\n",
       "    </tr>\n",
       "    <tr>\n",
       "      <th>4</th>\n",
       "      <td>frolv/interject</td>\n",
       "      <td>[{'name': 'C', 'bytes': 6066}]</td>\n",
       "    </tr>\n",
       "  </tbody>\n",
       "</table>\n",
       "</div>"
      ],
      "text/plain": [
       "                   repo_name                         language\n",
       "0            nccgroup/Watson  [{'name': 'C', 'bytes': 17250}]\n",
       "1              Utodev/SP2SCE  [{'name': 'C', 'bytes': 23287}]\n",
       "2  raziel7/operating_systems   [{'name': 'C', 'bytes': 2289}]\n",
       "3             everpi/ADXL345   [{'name': 'C', 'bytes': 2416}]\n",
       "4            frolv/interject   [{'name': 'C', 'bytes': 6066}]"
      ]
     },
     "execution_count": 6,
     "metadata": {},
     "output_type": "execute_result"
    }
   ],
   "source": [
    "# Construct a reference to the \"languages\" table\n",
    "table_ref = dataset_ref.table(\"languages\")\n",
    "\n",
    "# API request - fetch the table\n",
    "languages_table = client.get_table(table_ref)\n",
    "\n",
    "# Preview the first five lines of the table\n",
    "client.list_rows(languages_table, max_results=5).to_dataframe()"
   ]
  },
  {
   "cell_type": "markdown",
   "id": "c6a820de",
   "metadata": {
    "papermill": {
     "duration": 0.027396,
     "end_time": "2022-03-21T03:08:48.040540",
     "exception": false,
     "start_time": "2022-03-21T03:08:48.013144",
     "status": "completed"
    },
    "tags": []
   },
   "source": [
    "Each row of the `languages` table corresponds to a different repository.  \n",
    "- The \"repo_name\" column contains the name of the repository,\n",
    "- the \"name\" field in the \"language\" column contains the programming languages that can be found in the repo, and \n",
    "- the \"bytes\" field in the \"language\" column has the size of the files (in bytes, for the corresponding language).\n",
    "\n",
    "Run the following code cell to print the table schema."
   ]
  },
  {
   "cell_type": "code",
   "execution_count": 7,
   "id": "1864e6f8",
   "metadata": {
    "execution": {
     "iopub.execute_input": "2022-03-21T03:08:48.101868Z",
     "iopub.status.busy": "2022-03-21T03:08:48.100938Z",
     "iopub.status.idle": "2022-03-21T03:08:48.104428Z",
     "shell.execute_reply": "2022-03-21T03:08:48.105000Z",
     "shell.execute_reply.started": "2022-03-21T02:38:23.869505Z"
    },
    "papermill": {
     "duration": 0.037098,
     "end_time": "2022-03-21T03:08:48.105189",
     "exception": false,
     "start_time": "2022-03-21T03:08:48.068091",
     "status": "completed"
    },
    "tags": []
   },
   "outputs": [
    {
     "data": {
      "text/plain": [
       "[SchemaField('repo_name', 'STRING', 'NULLABLE', None, (), None),\n",
       " SchemaField('language', 'RECORD', 'REPEATED', None, (SchemaField('name', 'STRING', 'NULLABLE', None, (), None), SchemaField('bytes', 'INTEGER', 'NULLABLE', None, (), None)), None)]"
      ]
     },
     "execution_count": 7,
     "metadata": {},
     "output_type": "execute_result"
    }
   ],
   "source": [
    "# Print information on all the columns in the table\n",
    "languages_table.schema"
   ]
  },
  {
   "cell_type": "markdown",
   "id": "caf05230",
   "metadata": {
    "papermill": {
     "duration": 0.028713,
     "end_time": "2022-03-21T03:08:48.162561",
     "exception": false,
     "start_time": "2022-03-21T03:08:48.133848",
     "status": "completed"
    },
    "tags": []
   },
   "source": [
    "Assume for the moment that you have access to a table called `sample_languages` that contains only a very small subset of the rows from the `languages` table: in fact, it contains only three rows!  This table is depicted in the image below.\n",
    "\n",
    "![](https://i.imgur.com/qAb5lZ2.png)\n",
    "\n",
    "How many rows are in the table returned by the query below?\n",
    "\n",
    "![](https://i.imgur.com/Q5qYAtz.png)\n",
    "\n",
    "Fill in your answer in the next code cell."
   ]
  },
  {
   "cell_type": "code",
   "execution_count": 8,
   "id": "081b31f0",
   "metadata": {
    "execution": {
     "iopub.execute_input": "2022-03-21T03:08:48.229679Z",
     "iopub.status.busy": "2022-03-21T03:08:48.228595Z",
     "iopub.status.idle": "2022-03-21T03:08:48.234223Z",
     "shell.execute_reply": "2022-03-21T03:08:48.233673Z",
     "shell.execute_reply.started": "2022-03-21T02:38:28.357520Z"
    },
    "papermill": {
     "duration": 0.043195,
     "end_time": "2022-03-21T03:08:48.234403",
     "exception": false,
     "start_time": "2022-03-21T03:08:48.191208",
     "status": "completed"
    },
    "tags": []
   },
   "outputs": [
    {
     "data": {
      "application/javascript": [
       "parent.postMessage({\"jupyterEvent\": \"custom.exercise_interaction\", \"data\": {\"outcomeType\": 1, \"valueTowardsCompletion\": 0.25, \"interactionType\": 1, \"questionType\": 1, \"questionId\": \"2_LookLang\", \"learnToolsVersion\": \"0.3.4\", \"failureMessage\": \"\", \"exceptionClass\": \"\", \"trace\": \"\"}}, \"*\")"
      ],
      "text/plain": [
       "<IPython.core.display.Javascript object>"
      ]
     },
     "metadata": {},
     "output_type": "display_data"
    },
    {
     "data": {
      "text/markdown": [
       "<span style=\"color:#33cc33\">Correct</span>"
      ],
      "text/plain": [
       "Correct"
      ]
     },
     "metadata": {},
     "output_type": "display_data"
    }
   ],
   "source": [
    "# Fill in the blank\n",
    "num_rows = 6\n",
    "\n",
    "# Check your answer\n",
    "q_2.check()"
   ]
  },
  {
   "cell_type": "code",
   "execution_count": 9,
   "id": "2ed7b73b",
   "metadata": {
    "execution": {
     "iopub.execute_input": "2022-03-21T03:08:48.298720Z",
     "iopub.status.busy": "2022-03-21T03:08:48.297715Z",
     "iopub.status.idle": "2022-03-21T03:08:48.300738Z",
     "shell.execute_reply": "2022-03-21T03:08:48.300167Z",
     "shell.execute_reply.started": "2022-03-21T01:58:09.41048Z"
    },
    "papermill": {
     "duration": 0.036089,
     "end_time": "2022-03-21T03:08:48.300882",
     "exception": false,
     "start_time": "2022-03-21T03:08:48.264793",
     "status": "completed"
    },
    "tags": []
   },
   "outputs": [],
   "source": [
    "# Lines below will give you a hint or solution code\n",
    "# q_2.hint()\n",
    "# q_2.solution()"
   ]
  },
  {
   "cell_type": "markdown",
   "id": "00e53cfb",
   "metadata": {
    "papermill": {
     "duration": 0.028986,
     "end_time": "2022-03-21T03:08:48.359190",
     "exception": false,
     "start_time": "2022-03-21T03:08:48.330204",
     "status": "completed"
    },
    "tags": []
   },
   "source": [
    "### 3) What's the most popular programming language?\n",
    "\n",
    "Write a query to leverage the information in the `languages` table to determine which programming languages appear in the most repositories.  The table returned by your query should have two columns:\n",
    "- `language_name` - the name of the programming language\n",
    "- `num_repos` - the number of repositories in the `languages` table that use the programming language\n",
    "\n",
    "Sort the table so that languages that appear in more repos are shown first."
   ]
  },
  {
   "cell_type": "code",
   "execution_count": 10,
   "id": "170c2080",
   "metadata": {
    "execution": {
     "iopub.execute_input": "2022-03-21T03:08:48.427934Z",
     "iopub.status.busy": "2022-03-21T03:08:48.427164Z",
     "iopub.status.idle": "2022-03-21T03:08:49.746236Z",
     "shell.execute_reply": "2022-03-21T03:08:49.745337Z",
     "shell.execute_reply.started": "2022-03-21T02:56:10.156042Z"
    },
    "papermill": {
     "duration": 1.35707,
     "end_time": "2022-03-21T03:08:49.746452",
     "exception": false,
     "start_time": "2022-03-21T03:08:48.389382",
     "status": "completed"
    },
    "tags": []
   },
   "outputs": [
    {
     "name": "stderr",
     "output_type": "stream",
     "text": [
      "/opt/conda/lib/python3.7/site-packages/google/cloud/bigquery/client.py:440: UserWarning: Cannot create BigQuery Storage client, the dependency google-cloud-bigquery-storage is not installed.\n",
      "  \"Cannot create BigQuery Storage client, the dependency \"\n"
     ]
    },
    {
     "data": {
      "text/html": [
       "<div>\n",
       "<style scoped>\n",
       "    .dataframe tbody tr th:only-of-type {\n",
       "        vertical-align: middle;\n",
       "    }\n",
       "\n",
       "    .dataframe tbody tr th {\n",
       "        vertical-align: top;\n",
       "    }\n",
       "\n",
       "    .dataframe thead th {\n",
       "        text-align: right;\n",
       "    }\n",
       "</style>\n",
       "<table border=\"1\" class=\"dataframe\">\n",
       "  <thead>\n",
       "    <tr style=\"text-align: right;\">\n",
       "      <th></th>\n",
       "      <th>language_name</th>\n",
       "      <th>num_repos</th>\n",
       "    </tr>\n",
       "  </thead>\n",
       "  <tbody>\n",
       "    <tr>\n",
       "      <th>0</th>\n",
       "      <td>JavaScript</td>\n",
       "      <td>1099924</td>\n",
       "    </tr>\n",
       "    <tr>\n",
       "      <th>1</th>\n",
       "      <td>CSS</td>\n",
       "      <td>810899</td>\n",
       "    </tr>\n",
       "    <tr>\n",
       "      <th>2</th>\n",
       "      <td>HTML</td>\n",
       "      <td>778220</td>\n",
       "    </tr>\n",
       "    <tr>\n",
       "      <th>3</th>\n",
       "      <td>Shell</td>\n",
       "      <td>638484</td>\n",
       "    </tr>\n",
       "    <tr>\n",
       "      <th>4</th>\n",
       "      <td>Python</td>\n",
       "      <td>549066</td>\n",
       "    </tr>\n",
       "  </tbody>\n",
       "</table>\n",
       "</div>"
      ],
      "text/plain": [
       "  language_name  num_repos\n",
       "0    JavaScript    1099924\n",
       "1           CSS     810899\n",
       "2          HTML     778220\n",
       "3         Shell     638484\n",
       "4        Python     549066"
      ]
     },
     "metadata": {},
     "output_type": "display_data"
    },
    {
     "data": {
      "application/javascript": [
       "parent.postMessage({\"jupyterEvent\": \"custom.exercise_interaction\", \"data\": {\"outcomeType\": 1, \"valueTowardsCompletion\": 0.25, \"interactionType\": 1, \"questionType\": 2, \"questionId\": \"3_PopLang\", \"learnToolsVersion\": \"0.3.4\", \"failureMessage\": \"\", \"exceptionClass\": \"\", \"trace\": \"\"}}, \"*\")"
      ],
      "text/plain": [
       "<IPython.core.display.Javascript object>"
      ]
     },
     "metadata": {},
     "output_type": "display_data"
    },
    {
     "data": {
      "text/markdown": [
       "<span style=\"color:#33cc33\">Correct</span>"
      ],
      "text/plain": [
       "Correct"
      ]
     },
     "metadata": {},
     "output_type": "display_data"
    }
   ],
   "source": [
    "# Write a query to find the answer\n",
    "pop_lang_query = \"\"\"\n",
    "                 SELECT l.name as language_name,\n",
    "                        COUNT(l.name) as num_repos\n",
    "                 FROM `bigquery-public-data.github_repos.languages`,\n",
    "                     UNNEST(language) as l\n",
    "                GROUP BY language_name\n",
    "                ORDER BY num_repos DESC\n",
    "                 \"\"\"\n",
    "\n",
    "# Check your answer\n",
    "q_3.check()"
   ]
  },
  {
   "cell_type": "code",
   "execution_count": 11,
   "id": "fb14684c",
   "metadata": {
    "execution": {
     "iopub.execute_input": "2022-03-21T03:08:49.820111Z",
     "iopub.status.busy": "2022-03-21T03:08:49.819083Z",
     "iopub.status.idle": "2022-03-21T03:08:49.821503Z",
     "shell.execute_reply": "2022-03-21T03:08:49.822117Z",
     "shell.execute_reply.started": "2022-03-21T02:56:31.249896Z"
    },
    "papermill": {
     "duration": 0.039988,
     "end_time": "2022-03-21T03:08:49.822309",
     "exception": false,
     "start_time": "2022-03-21T03:08:49.782321",
     "status": "completed"
    },
    "tags": []
   },
   "outputs": [],
   "source": [
    "# Lines below will give you a hint or solution code\n",
    "#q_3.hint()\n",
    "#q_3.solution()"
   ]
  },
  {
   "cell_type": "markdown",
   "id": "cc7e3b81",
   "metadata": {
    "papermill": {
     "duration": 0.034113,
     "end_time": "2022-03-21T03:08:49.888127",
     "exception": false,
     "start_time": "2022-03-21T03:08:49.854014",
     "status": "completed"
    },
    "tags": []
   },
   "source": [
    "### 4) Which languages are used in the repository with the most languages?\n",
    "\n",
    "For this question, you'll restrict your attention to the repository with name `'polyrabbit/polyglot'`.\n",
    "\n",
    "Write a query that returns a table with one row for each language in this repository.  The table should have two columns:\n",
    "- `name` - the name of the programming language\n",
    "- `bytes` - the total number of bytes of that programming language\n",
    "\n",
    "Sort the table by the `bytes` column so that programming languages that take up more space in the repo appear first."
   ]
  },
  {
   "cell_type": "code",
   "execution_count": 12,
   "id": "f5732f92",
   "metadata": {
    "execution": {
     "iopub.execute_input": "2022-03-21T03:08:49.958122Z",
     "iopub.status.busy": "2022-03-21T03:08:49.957040Z",
     "iopub.status.idle": "2022-03-21T03:08:51.485534Z",
     "shell.execute_reply": "2022-03-21T03:08:51.486021Z",
     "shell.execute_reply.started": "2022-03-21T03:07:53.777639Z"
    },
    "papermill": {
     "duration": 1.563913,
     "end_time": "2022-03-21T03:08:51.486188",
     "exception": false,
     "start_time": "2022-03-21T03:08:49.922275",
     "status": "completed"
    },
    "tags": []
   },
   "outputs": [
    {
     "name": "stderr",
     "output_type": "stream",
     "text": [
      "/opt/conda/lib/python3.7/site-packages/google/cloud/bigquery/client.py:440: UserWarning: Cannot create BigQuery Storage client, the dependency google-cloud-bigquery-storage is not installed.\n",
      "  \"Cannot create BigQuery Storage client, the dependency \"\n"
     ]
    },
    {
     "data": {
      "text/html": [
       "<div>\n",
       "<style scoped>\n",
       "    .dataframe tbody tr th:only-of-type {\n",
       "        vertical-align: middle;\n",
       "    }\n",
       "\n",
       "    .dataframe tbody tr th {\n",
       "        vertical-align: top;\n",
       "    }\n",
       "\n",
       "    .dataframe thead th {\n",
       "        text-align: right;\n",
       "    }\n",
       "</style>\n",
       "<table border=\"1\" class=\"dataframe\">\n",
       "  <thead>\n",
       "    <tr style=\"text-align: right;\">\n",
       "      <th></th>\n",
       "      <th>name</th>\n",
       "      <th>bytes</th>\n",
       "    </tr>\n",
       "  </thead>\n",
       "  <tbody>\n",
       "    <tr>\n",
       "      <th>0</th>\n",
       "      <td>Lasso</td>\n",
       "      <td>834726</td>\n",
       "    </tr>\n",
       "    <tr>\n",
       "      <th>1</th>\n",
       "      <td>C</td>\n",
       "      <td>819142</td>\n",
       "    </tr>\n",
       "    <tr>\n",
       "      <th>2</th>\n",
       "      <td>Mercury</td>\n",
       "      <td>709952</td>\n",
       "    </tr>\n",
       "    <tr>\n",
       "      <th>3</th>\n",
       "      <td>Objective-C</td>\n",
       "      <td>495392</td>\n",
       "    </tr>\n",
       "    <tr>\n",
       "      <th>4</th>\n",
       "      <td>Game Maker Language</td>\n",
       "      <td>298131</td>\n",
       "    </tr>\n",
       "  </tbody>\n",
       "</table>\n",
       "</div>"
      ],
      "text/plain": [
       "                  name   bytes\n",
       "0                Lasso  834726\n",
       "1                    C  819142\n",
       "2              Mercury  709952\n",
       "3          Objective-C  495392\n",
       "4  Game Maker Language  298131"
      ]
     },
     "metadata": {},
     "output_type": "display_data"
    },
    {
     "data": {
      "application/javascript": [
       "parent.postMessage({\"jupyterEvent\": \"custom.exercise_interaction\", \"data\": {\"outcomeType\": 1, \"valueTowardsCompletion\": 0.25, \"interactionType\": 1, \"questionType\": 2, \"questionId\": \"4_AllLangs\", \"learnToolsVersion\": \"0.3.4\", \"failureMessage\": \"\", \"exceptionClass\": \"\", \"trace\": \"\"}}, \"*\")"
      ],
      "text/plain": [
       "<IPython.core.display.Javascript object>"
      ]
     },
     "metadata": {},
     "output_type": "display_data"
    },
    {
     "data": {
      "text/markdown": [
       "<span style=\"color:#33cc33\">Correct</span>"
      ],
      "text/plain": [
       "Correct"
      ]
     },
     "metadata": {},
     "output_type": "display_data"
    }
   ],
   "source": [
    "# Your code here\n",
    "all_langs_query = \"\"\"\n",
    "                    SELECT l.name AS name,\n",
    "                           l.bytes AS bytes\n",
    "                    FROM `bigquery-public-data.github_repos.languages`,\n",
    "                        UNNEST(language) AS l\n",
    "                    WHERE repo_name = 'polyrabbit/polyglot'\n",
    "                    ORDER BY bytes DESC\n",
    "                  \"\"\"\n",
    "\n",
    "# Check your answer\n",
    "q_4.check()"
   ]
  },
  {
   "cell_type": "code",
   "execution_count": 13,
   "id": "0bc86d87",
   "metadata": {
    "execution": {
     "iopub.execute_input": "2022-03-21T03:08:51.560020Z",
     "iopub.status.busy": "2022-03-21T03:08:51.559257Z",
     "iopub.status.idle": "2022-03-21T03:08:51.561598Z",
     "shell.execute_reply": "2022-03-21T03:08:51.562098Z",
     "shell.execute_reply.started": "2022-03-21T03:08:04.470229Z"
    },
    "papermill": {
     "duration": 0.042405,
     "end_time": "2022-03-21T03:08:51.562271",
     "exception": false,
     "start_time": "2022-03-21T03:08:51.519866",
     "status": "completed"
    },
    "tags": []
   },
   "outputs": [],
   "source": [
    "# Lines below will give you a hint or solution code\n",
    "# q_4.hint()\n",
    "# q_4.solution()"
   ]
  },
  {
   "cell_type": "markdown",
   "id": "b5232078",
   "metadata": {
    "papermill": {
     "duration": 0.035632,
     "end_time": "2022-03-21T03:08:51.632764",
     "exception": false,
     "start_time": "2022-03-21T03:08:51.597132",
     "status": "completed"
    },
    "tags": []
   },
   "source": [
    "# Keep going\n",
    "\n",
    "Learn how to make your queries **[more efficient](https://www.kaggle.com/alexisbcook/writing-efficient-queries)**."
   ]
  },
  {
   "cell_type": "markdown",
   "id": "fe2009bc",
   "metadata": {
    "papermill": {
     "duration": 0.033819,
     "end_time": "2022-03-21T03:08:51.702465",
     "exception": false,
     "start_time": "2022-03-21T03:08:51.668646",
     "status": "completed"
    },
    "tags": []
   },
   "source": [
    "---\n",
    "\n",
    "\n",
    "\n",
    "\n",
    "*Have questions or comments? Visit the [course discussion forum](https://www.kaggle.com/learn/advanced-sql/discussion) to chat with other learners.*"
   ]
  }
 ],
 "metadata": {
  "kernelspec": {
   "display_name": "Python 3",
   "language": "python",
   "name": "python3"
  },
  "language_info": {
   "codemirror_mode": {
    "name": "ipython",
    "version": 3
   },
   "file_extension": ".py",
   "mimetype": "text/x-python",
   "name": "python",
   "nbconvert_exporter": "python",
   "pygments_lexer": "ipython3",
   "version": "3.7.12"
  },
  "papermill": {
   "default_parameters": {},
   "duration": 25.37622,
   "end_time": "2022-03-21T03:08:52.347269",
   "environment_variables": {},
   "exception": null,
   "input_path": "__notebook__.ipynb",
   "output_path": "__notebook__.ipynb",
   "parameters": {},
   "start_time": "2022-03-21T03:08:26.971049",
   "version": "2.3.3"
  }
 },
 "nbformat": 4,
 "nbformat_minor": 5
}
