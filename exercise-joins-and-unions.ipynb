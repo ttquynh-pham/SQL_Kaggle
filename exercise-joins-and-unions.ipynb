{
 "cells": [
  {
   "cell_type": "markdown",
   "id": "99a5cecf",
   "metadata": {
    "papermill": {
     "duration": 0.023585,
     "end_time": "2022-03-19T14:45:21.881000",
     "exception": false,
     "start_time": "2022-03-19T14:45:21.857415",
     "status": "completed"
    },
    "tags": []
   },
   "source": [
    "**This notebook is an exercise in the [Advanced SQL](https://www.kaggle.com/learn/advanced-sql) course.  You can reference the tutorial at [this link](https://www.kaggle.com/alexisbcook/joins-and-unions).**\n",
    "\n",
    "---\n"
   ]
  },
  {
   "cell_type": "markdown",
   "id": "efde4c9c",
   "metadata": {
    "papermill": {
     "duration": 0.022633,
     "end_time": "2022-03-19T14:45:21.927108",
     "exception": false,
     "start_time": "2022-03-19T14:45:21.904475",
     "status": "completed"
    },
    "tags": []
   },
   "source": [
    "# Introduction\n",
    "\n",
    "Here, you'll use different types of SQL **JOINs** to answer questions about the [Stack Overflow](https://www.kaggle.com/stackoverflow/stackoverflow) dataset.\n",
    "\n",
    "Before you get started, run the following cell to set everything up."
   ]
  },
  {
   "cell_type": "code",
   "execution_count": 1,
   "id": "4da406c6",
   "metadata": {
    "execution": {
     "iopub.execute_input": "2022-03-19T14:45:21.981017Z",
     "iopub.status.busy": "2022-03-19T14:45:21.980396Z",
     "iopub.status.idle": "2022-03-19T14:45:38.138485Z",
     "shell.execute_reply": "2022-03-19T14:45:38.136740Z",
     "shell.execute_reply.started": "2022-03-19T13:38:15.640736Z"
    },
    "papermill": {
     "duration": 16.19028,
     "end_time": "2022-03-19T14:45:38.139003",
     "exception": false,
     "start_time": "2022-03-19T14:45:21.948723",
     "status": "completed"
    },
    "tags": []
   },
   "outputs": [
    {
     "name": "stdout",
     "output_type": "stream",
     "text": [
      "Using Kaggle's public dataset BigQuery integration.\n"
     ]
    },
    {
     "name": "stderr",
     "output_type": "stream",
     "text": [
      "/opt/conda/lib/python3.7/site-packages/google/cloud/bigquery/client.py:440: UserWarning: Cannot create BigQuery Storage client, the dependency google-cloud-bigquery-storage is not installed.\n",
      "  \"Cannot create BigQuery Storage client, the dependency \"\n"
     ]
    },
    {
     "name": "stdout",
     "output_type": "stream",
     "text": [
      "Setup Complete\n"
     ]
    }
   ],
   "source": [
    "# Set up feedback system\n",
    "from learntools.core import binder\n",
    "binder.bind(globals())\n",
    "from learntools.sql_advanced.ex1 import *\n",
    "print(\"Setup Complete\")"
   ]
  },
  {
   "cell_type": "markdown",
   "id": "89974a82",
   "metadata": {
    "papermill": {
     "duration": 0.021403,
     "end_time": "2022-03-19T14:45:38.184909",
     "exception": false,
     "start_time": "2022-03-19T14:45:38.163506",
     "status": "completed"
    },
    "tags": []
   },
   "source": [
    "The code cell below fetches the `posts_questions` table from the `stackoverflow` dataset.  We also preview the first five rows of the table."
   ]
  },
  {
   "cell_type": "code",
   "execution_count": 2,
   "id": "a79c5358",
   "metadata": {
    "execution": {
     "iopub.execute_input": "2022-03-19T14:45:38.242475Z",
     "iopub.status.busy": "2022-03-19T14:45:38.241031Z",
     "iopub.status.idle": "2022-03-19T14:45:39.261010Z",
     "shell.execute_reply": "2022-03-19T14:45:39.261535Z",
     "shell.execute_reply.started": "2022-03-19T13:38:47.872609Z"
    },
    "papermill": {
     "duration": 1.054881,
     "end_time": "2022-03-19T14:45:39.261722",
     "exception": false,
     "start_time": "2022-03-19T14:45:38.206841",
     "status": "completed"
    },
    "tags": []
   },
   "outputs": [
    {
     "name": "stdout",
     "output_type": "stream",
     "text": [
      "Using Kaggle's public dataset BigQuery integration.\n"
     ]
    },
    {
     "name": "stderr",
     "output_type": "stream",
     "text": [
      "/opt/conda/lib/python3.7/site-packages/ipykernel_launcher.py:19: UserWarning: Cannot use bqstorage_client if max_results is set, reverting to fetching data with the tabledata.list endpoint.\n"
     ]
    },
    {
     "data": {
      "text/html": [
       "<div>\n",
       "<style scoped>\n",
       "    .dataframe tbody tr th:only-of-type {\n",
       "        vertical-align: middle;\n",
       "    }\n",
       "\n",
       "    .dataframe tbody tr th {\n",
       "        vertical-align: top;\n",
       "    }\n",
       "\n",
       "    .dataframe thead th {\n",
       "        text-align: right;\n",
       "    }\n",
       "</style>\n",
       "<table border=\"1\" class=\"dataframe\">\n",
       "  <thead>\n",
       "    <tr style=\"text-align: right;\">\n",
       "      <th></th>\n",
       "      <th>id</th>\n",
       "      <th>title</th>\n",
       "      <th>body</th>\n",
       "      <th>accepted_answer_id</th>\n",
       "      <th>answer_count</th>\n",
       "      <th>comment_count</th>\n",
       "      <th>community_owned_date</th>\n",
       "      <th>creation_date</th>\n",
       "      <th>favorite_count</th>\n",
       "      <th>last_activity_date</th>\n",
       "      <th>last_edit_date</th>\n",
       "      <th>last_editor_display_name</th>\n",
       "      <th>last_editor_user_id</th>\n",
       "      <th>owner_display_name</th>\n",
       "      <th>owner_user_id</th>\n",
       "      <th>parent_id</th>\n",
       "      <th>post_type_id</th>\n",
       "      <th>score</th>\n",
       "      <th>tags</th>\n",
       "      <th>view_count</th>\n",
       "    </tr>\n",
       "  </thead>\n",
       "  <tbody>\n",
       "    <tr>\n",
       "      <th>0</th>\n",
       "      <td>69955098</td>\n",
       "      <td>XCode App Creation Error : STATE_ERROR.APP_CRE...</td>\n",
       "      <td>&lt;p&gt;Just wanted to share the solution from a pr...</td>\n",
       "      <td>NaN</td>\n",
       "      <td>1</td>\n",
       "      <td>0</td>\n",
       "      <td>NaT</td>\n",
       "      <td>2021-11-13 14:16:47.457000+00:00</td>\n",
       "      <td>NaN</td>\n",
       "      <td>2021-11-13 14:16:47.457000+00:00</td>\n",
       "      <td>NaT</td>\n",
       "      <td>None</td>\n",
       "      <td>NaN</td>\n",
       "      <td>None</td>\n",
       "      <td>10545581</td>\n",
       "      <td>None</td>\n",
       "      <td>1</td>\n",
       "      <td>0</td>\n",
       "      <td>ios|xcode|app-store</td>\n",
       "      <td>256</td>\n",
       "    </tr>\n",
       "    <tr>\n",
       "      <th>1</th>\n",
       "      <td>69994834</td>\n",
       "      <td>attributeerror: 'AioClientCreator' object has ...</td>\n",
       "      <td>&lt;p&gt;Recently, I have started to occupy the AWS ...</td>\n",
       "      <td>NaN</td>\n",
       "      <td>1</td>\n",
       "      <td>0</td>\n",
       "      <td>NaT</td>\n",
       "      <td>2021-11-16 19:10:32.050000+00:00</td>\n",
       "      <td>0.0</td>\n",
       "      <td>2021-11-19 01:17:12.260000+00:00</td>\n",
       "      <td>2021-11-17 12:40:32.837000+00:00</td>\n",
       "      <td>None</td>\n",
       "      <td>11407227.0</td>\n",
       "      <td>None</td>\n",
       "      <td>11407227</td>\n",
       "      <td>None</td>\n",
       "      <td>1</td>\n",
       "      <td>5</td>\n",
       "      <td>python|python-3.x|amazon-web-services|apache-s...</td>\n",
       "      <td>768</td>\n",
       "    </tr>\n",
       "    <tr>\n",
       "      <th>2</th>\n",
       "      <td>70231696</td>\n",
       "      <td>how to stream google drive files on ios?</td>\n",
       "      <td>&lt;p&gt;good afternoon, SO my main problem is not b...</td>\n",
       "      <td>NaN</td>\n",
       "      <td>0</td>\n",
       "      <td>0</td>\n",
       "      <td>NaT</td>\n",
       "      <td>2021-12-05 05:26:09.073000+00:00</td>\n",
       "      <td>NaN</td>\n",
       "      <td>2021-12-05 05:26:09.073000+00:00</td>\n",
       "      <td>NaT</td>\n",
       "      <td>None</td>\n",
       "      <td>NaN</td>\n",
       "      <td>None</td>\n",
       "      <td>17592464</td>\n",
       "      <td>None</td>\n",
       "      <td>1</td>\n",
       "      <td>0</td>\n",
       "      <td>google-drive-shared-drive</td>\n",
       "      <td>1</td>\n",
       "    </tr>\n",
       "    <tr>\n",
       "      <th>3</th>\n",
       "      <td>69986303</td>\n",
       "      <td>Microsoft Graph description retrival from a dr...</td>\n",
       "      <td>&lt;p&gt;I have a drive id in MSGraph url and i want...</td>\n",
       "      <td>NaN</td>\n",
       "      <td>0</td>\n",
       "      <td>0</td>\n",
       "      <td>NaT</td>\n",
       "      <td>2021-11-16 09:04:09.047000+00:00</td>\n",
       "      <td>NaN</td>\n",
       "      <td>2021-11-16 09:04:09.047000+00:00</td>\n",
       "      <td>NaT</td>\n",
       "      <td>None</td>\n",
       "      <td>NaN</td>\n",
       "      <td>None</td>\n",
       "      <td>17426431</td>\n",
       "      <td>None</td>\n",
       "      <td>1</td>\n",
       "      <td>0</td>\n",
       "      <td>graph</td>\n",
       "      <td>2</td>\n",
       "    </tr>\n",
       "    <tr>\n",
       "      <th>4</th>\n",
       "      <td>70034647</td>\n",
       "      <td>When I run EB CLI's `eb deploy` after changing...</td>\n",
       "      <td>&lt;p&gt;I am using MacOS. I have a project containi...</td>\n",
       "      <td>NaN</td>\n",
       "      <td>0</td>\n",
       "      <td>0</td>\n",
       "      <td>NaT</td>\n",
       "      <td>2021-11-19 12:11:40.033000+00:00</td>\n",
       "      <td>NaN</td>\n",
       "      <td>2021-11-19 12:11:40.033000+00:00</td>\n",
       "      <td>NaT</td>\n",
       "      <td>None</td>\n",
       "      <td>NaN</td>\n",
       "      <td>None</td>\n",
       "      <td>5645465</td>\n",
       "      <td>None</td>\n",
       "      <td>1</td>\n",
       "      <td>0</td>\n",
       "      <td>node.js|ebcli</td>\n",
       "      <td>2</td>\n",
       "    </tr>\n",
       "  </tbody>\n",
       "</table>\n",
       "</div>"
      ],
      "text/plain": [
       "         id                                              title  \\\n",
       "0  69955098  XCode App Creation Error : STATE_ERROR.APP_CRE...   \n",
       "1  69994834  attributeerror: 'AioClientCreator' object has ...   \n",
       "2  70231696           how to stream google drive files on ios?   \n",
       "3  69986303  Microsoft Graph description retrival from a dr...   \n",
       "4  70034647  When I run EB CLI's `eb deploy` after changing...   \n",
       "\n",
       "                                                body  accepted_answer_id  \\\n",
       "0  <p>Just wanted to share the solution from a pr...                 NaN   \n",
       "1  <p>Recently, I have started to occupy the AWS ...                 NaN   \n",
       "2  <p>good afternoon, SO my main problem is not b...                 NaN   \n",
       "3  <p>I have a drive id in MSGraph url and i want...                 NaN   \n",
       "4  <p>I am using MacOS. I have a project containi...                 NaN   \n",
       "\n",
       "   answer_count  comment_count community_owned_date  \\\n",
       "0             1              0                  NaT   \n",
       "1             1              0                  NaT   \n",
       "2             0              0                  NaT   \n",
       "3             0              0                  NaT   \n",
       "4             0              0                  NaT   \n",
       "\n",
       "                     creation_date  favorite_count  \\\n",
       "0 2021-11-13 14:16:47.457000+00:00             NaN   \n",
       "1 2021-11-16 19:10:32.050000+00:00             0.0   \n",
       "2 2021-12-05 05:26:09.073000+00:00             NaN   \n",
       "3 2021-11-16 09:04:09.047000+00:00             NaN   \n",
       "4 2021-11-19 12:11:40.033000+00:00             NaN   \n",
       "\n",
       "                last_activity_date                   last_edit_date  \\\n",
       "0 2021-11-13 14:16:47.457000+00:00                              NaT   \n",
       "1 2021-11-19 01:17:12.260000+00:00 2021-11-17 12:40:32.837000+00:00   \n",
       "2 2021-12-05 05:26:09.073000+00:00                              NaT   \n",
       "3 2021-11-16 09:04:09.047000+00:00                              NaT   \n",
       "4 2021-11-19 12:11:40.033000+00:00                              NaT   \n",
       "\n",
       "  last_editor_display_name  last_editor_user_id owner_display_name  \\\n",
       "0                     None                  NaN               None   \n",
       "1                     None           11407227.0               None   \n",
       "2                     None                  NaN               None   \n",
       "3                     None                  NaN               None   \n",
       "4                     None                  NaN               None   \n",
       "\n",
       "   owner_user_id parent_id  post_type_id  score  \\\n",
       "0       10545581      None             1      0   \n",
       "1       11407227      None             1      5   \n",
       "2       17592464      None             1      0   \n",
       "3       17426431      None             1      0   \n",
       "4        5645465      None             1      0   \n",
       "\n",
       "                                                tags  view_count  \n",
       "0                                ios|xcode|app-store         256  \n",
       "1  python|python-3.x|amazon-web-services|apache-s...         768  \n",
       "2                          google-drive-shared-drive           1  \n",
       "3                                              graph           2  \n",
       "4                                      node.js|ebcli           2  "
      ]
     },
     "execution_count": 2,
     "metadata": {},
     "output_type": "execute_result"
    }
   ],
   "source": [
    "from google.cloud import bigquery\n",
    "\n",
    "# Create a \"Client\" object\n",
    "client = bigquery.Client()\n",
    "\n",
    "# Construct a reference to the \"stackoverflow\" dataset\n",
    "dataset_ref = client.dataset(\"stackoverflow\", project=\"bigquery-public-data\")\n",
    "\n",
    "# API request - fetch the dataset\n",
    "dataset = client.get_dataset(dataset_ref)\n",
    "\n",
    "# Construct a reference to the \"posts_questions\" table\n",
    "table_ref = dataset_ref.table(\"posts_questions\")\n",
    "\n",
    "# API request - fetch the table\n",
    "table = client.get_table(table_ref)\n",
    "\n",
    "# Preview the first five lines of the table\n",
    "client.list_rows(table, max_results=5).to_dataframe()"
   ]
  },
  {
   "cell_type": "markdown",
   "id": "45131ff1",
   "metadata": {
    "papermill": {
     "duration": 0.024088,
     "end_time": "2022-03-19T14:45:39.309589",
     "exception": false,
     "start_time": "2022-03-19T14:45:39.285501",
     "status": "completed"
    },
    "tags": []
   },
   "source": [
    "We also take a look at the `posts_answers` table."
   ]
  },
  {
   "cell_type": "code",
   "execution_count": 3,
   "id": "a5904887",
   "metadata": {
    "execution": {
     "iopub.execute_input": "2022-03-19T14:45:39.360873Z",
     "iopub.status.busy": "2022-03-19T14:45:39.360199Z",
     "iopub.status.idle": "2022-03-19T14:45:39.999190Z",
     "shell.execute_reply": "2022-03-19T14:45:39.999701Z",
     "shell.execute_reply.started": "2022-03-19T13:38:53.424454Z"
    },
    "papermill": {
     "duration": 0.66651,
     "end_time": "2022-03-19T14:45:39.999894",
     "exception": false,
     "start_time": "2022-03-19T14:45:39.333384",
     "status": "completed"
    },
    "tags": []
   },
   "outputs": [
    {
     "name": "stderr",
     "output_type": "stream",
     "text": [
      "/opt/conda/lib/python3.7/site-packages/ipykernel_launcher.py:8: UserWarning: Cannot use bqstorage_client if max_results is set, reverting to fetching data with the tabledata.list endpoint.\n",
      "  \n"
     ]
    },
    {
     "data": {
      "text/html": [
       "<div>\n",
       "<style scoped>\n",
       "    .dataframe tbody tr th:only-of-type {\n",
       "        vertical-align: middle;\n",
       "    }\n",
       "\n",
       "    .dataframe tbody tr th {\n",
       "        vertical-align: top;\n",
       "    }\n",
       "\n",
       "    .dataframe thead th {\n",
       "        text-align: right;\n",
       "    }\n",
       "</style>\n",
       "<table border=\"1\" class=\"dataframe\">\n",
       "  <thead>\n",
       "    <tr style=\"text-align: right;\">\n",
       "      <th></th>\n",
       "      <th>id</th>\n",
       "      <th>title</th>\n",
       "      <th>body</th>\n",
       "      <th>accepted_answer_id</th>\n",
       "      <th>answer_count</th>\n",
       "      <th>comment_count</th>\n",
       "      <th>community_owned_date</th>\n",
       "      <th>creation_date</th>\n",
       "      <th>favorite_count</th>\n",
       "      <th>last_activity_date</th>\n",
       "      <th>last_edit_date</th>\n",
       "      <th>last_editor_display_name</th>\n",
       "      <th>last_editor_user_id</th>\n",
       "      <th>owner_display_name</th>\n",
       "      <th>owner_user_id</th>\n",
       "      <th>parent_id</th>\n",
       "      <th>post_type_id</th>\n",
       "      <th>score</th>\n",
       "      <th>tags</th>\n",
       "      <th>view_count</th>\n",
       "    </tr>\n",
       "  </thead>\n",
       "  <tbody>\n",
       "    <tr>\n",
       "      <th>0</th>\n",
       "      <td>69637232</td>\n",
       "      <td>None</td>\n",
       "      <td>&lt;p&gt;I'd suggest trying pyspark/spark&lt;/p&gt;\\n&lt;pre&gt;...</td>\n",
       "      <td>None</td>\n",
       "      <td>None</td>\n",
       "      <td>1</td>\n",
       "      <td>NaT</td>\n",
       "      <td>2021-10-19 20:23:05.930000+00:00</td>\n",
       "      <td>None</td>\n",
       "      <td>2021-10-19 20:23:05.930000+00:00</td>\n",
       "      <td>NaT</td>\n",
       "      <td>None</td>\n",
       "      <td>NaN</td>\n",
       "      <td>None</td>\n",
       "      <td>13535120</td>\n",
       "      <td>69588989</td>\n",
       "      <td>2</td>\n",
       "      <td>0</td>\n",
       "      <td>None</td>\n",
       "      <td>None</td>\n",
       "    </tr>\n",
       "    <tr>\n",
       "      <th>1</th>\n",
       "      <td>69637234</td>\n",
       "      <td>None</td>\n",
       "      <td>&lt;p&gt;If you want to use higher-level functions y...</td>\n",
       "      <td>None</td>\n",
       "      <td>None</td>\n",
       "      <td>0</td>\n",
       "      <td>NaT</td>\n",
       "      <td>2021-10-19 20:23:26.823000+00:00</td>\n",
       "      <td>None</td>\n",
       "      <td>2021-10-19 20:23:26.823000+00:00</td>\n",
       "      <td>NaT</td>\n",
       "      <td>None</td>\n",
       "      <td>NaN</td>\n",
       "      <td>None</td>\n",
       "      <td>5003756</td>\n",
       "      <td>69637076</td>\n",
       "      <td>2</td>\n",
       "      <td>0</td>\n",
       "      <td>None</td>\n",
       "      <td>None</td>\n",
       "    </tr>\n",
       "    <tr>\n",
       "      <th>2</th>\n",
       "      <td>69637236</td>\n",
       "      <td>None</td>\n",
       "      <td>&lt;p&gt;To the first question&lt;/p&gt;\\n&lt;blockquote&gt;\\n&lt;p...</td>\n",
       "      <td>None</td>\n",
       "      <td>None</td>\n",
       "      <td>0</td>\n",
       "      <td>NaT</td>\n",
       "      <td>2021-10-19 20:23:32.983000+00:00</td>\n",
       "      <td>None</td>\n",
       "      <td>2021-10-19 20:23:32.983000+00:00</td>\n",
       "      <td>NaT</td>\n",
       "      <td>None</td>\n",
       "      <td>NaN</td>\n",
       "      <td>None</td>\n",
       "      <td>16523370</td>\n",
       "      <td>69635990</td>\n",
       "      <td>2</td>\n",
       "      <td>0</td>\n",
       "      <td>None</td>\n",
       "      <td>None</td>\n",
       "    </tr>\n",
       "    <tr>\n",
       "      <th>3</th>\n",
       "      <td>69637246</td>\n",
       "      <td>None</td>\n",
       "      <td>&lt;p&gt;If you want to access a class in another cl...</td>\n",
       "      <td>None</td>\n",
       "      <td>None</td>\n",
       "      <td>0</td>\n",
       "      <td>NaT</td>\n",
       "      <td>2021-10-19 20:24:13.700000+00:00</td>\n",
       "      <td>None</td>\n",
       "      <td>2021-10-19 20:24:13.700000+00:00</td>\n",
       "      <td>NaT</td>\n",
       "      <td>None</td>\n",
       "      <td>NaN</td>\n",
       "      <td>None</td>\n",
       "      <td>16653398</td>\n",
       "      <td>69637090</td>\n",
       "      <td>2</td>\n",
       "      <td>0</td>\n",
       "      <td>None</td>\n",
       "      <td>None</td>\n",
       "    </tr>\n",
       "    <tr>\n",
       "      <th>4</th>\n",
       "      <td>69637250</td>\n",
       "      <td>None</td>\n",
       "      <td>&lt;p&gt;putting content inside an extra &lt;code&gt;&amp;lt;p...</td>\n",
       "      <td>None</td>\n",
       "      <td>None</td>\n",
       "      <td>0</td>\n",
       "      <td>NaT</td>\n",
       "      <td>2021-10-19 20:24:28.950000+00:00</td>\n",
       "      <td>None</td>\n",
       "      <td>2021-10-19 20:24:28.950000+00:00</td>\n",
       "      <td>NaT</td>\n",
       "      <td>None</td>\n",
       "      <td>NaN</td>\n",
       "      <td>None</td>\n",
       "      <td>4016922</td>\n",
       "      <td>69632918</td>\n",
       "      <td>2</td>\n",
       "      <td>0</td>\n",
       "      <td>None</td>\n",
       "      <td>None</td>\n",
       "    </tr>\n",
       "  </tbody>\n",
       "</table>\n",
       "</div>"
      ],
      "text/plain": [
       "         id title                                               body  \\\n",
       "0  69637232  None  <p>I'd suggest trying pyspark/spark</p>\\n<pre>...   \n",
       "1  69637234  None  <p>If you want to use higher-level functions y...   \n",
       "2  69637236  None  <p>To the first question</p>\\n<blockquote>\\n<p...   \n",
       "3  69637246  None  <p>If you want to access a class in another cl...   \n",
       "4  69637250  None  <p>putting content inside an extra <code>&lt;p...   \n",
       "\n",
       "  accepted_answer_id answer_count  comment_count community_owned_date  \\\n",
       "0               None         None              1                  NaT   \n",
       "1               None         None              0                  NaT   \n",
       "2               None         None              0                  NaT   \n",
       "3               None         None              0                  NaT   \n",
       "4               None         None              0                  NaT   \n",
       "\n",
       "                     creation_date favorite_count  \\\n",
       "0 2021-10-19 20:23:05.930000+00:00           None   \n",
       "1 2021-10-19 20:23:26.823000+00:00           None   \n",
       "2 2021-10-19 20:23:32.983000+00:00           None   \n",
       "3 2021-10-19 20:24:13.700000+00:00           None   \n",
       "4 2021-10-19 20:24:28.950000+00:00           None   \n",
       "\n",
       "                last_activity_date last_edit_date last_editor_display_name  \\\n",
       "0 2021-10-19 20:23:05.930000+00:00            NaT                     None   \n",
       "1 2021-10-19 20:23:26.823000+00:00            NaT                     None   \n",
       "2 2021-10-19 20:23:32.983000+00:00            NaT                     None   \n",
       "3 2021-10-19 20:24:13.700000+00:00            NaT                     None   \n",
       "4 2021-10-19 20:24:28.950000+00:00            NaT                     None   \n",
       "\n",
       "   last_editor_user_id owner_display_name  owner_user_id  parent_id  \\\n",
       "0                  NaN               None       13535120   69588989   \n",
       "1                  NaN               None        5003756   69637076   \n",
       "2                  NaN               None       16523370   69635990   \n",
       "3                  NaN               None       16653398   69637090   \n",
       "4                  NaN               None        4016922   69632918   \n",
       "\n",
       "   post_type_id  score  tags view_count  \n",
       "0             2      0  None       None  \n",
       "1             2      0  None       None  \n",
       "2             2      0  None       None  \n",
       "3             2      0  None       None  \n",
       "4             2      0  None       None  "
      ]
     },
     "execution_count": 3,
     "metadata": {},
     "output_type": "execute_result"
    }
   ],
   "source": [
    "# Construct a reference to the \"posts_answers\" table\n",
    "table_ref = dataset_ref.table(\"posts_answers\")\n",
    "\n",
    "# API request - fetch the table\n",
    "table = client.get_table(table_ref)\n",
    "\n",
    "# Preview the first five lines of the table\n",
    "client.list_rows(table, max_results=5).to_dataframe()"
   ]
  },
  {
   "cell_type": "markdown",
   "id": "645c6768",
   "metadata": {
    "papermill": {
     "duration": 0.02484,
     "end_time": "2022-03-19T14:45:40.050580",
     "exception": false,
     "start_time": "2022-03-19T14:45:40.025740",
     "status": "completed"
    },
    "tags": []
   },
   "source": [
    "You will work with both of these tables to answer the questions below.\n",
    "\n",
    "# Exercises\n",
    "\n",
    "### 1) How long does it take for questions to receive answers?\n",
    "\n",
    "You're interested in exploring the data to have a better understanding of how long it generally takes for questions to receive answers.  Armed with this knowledge, you plan to use this information to better design the order in which questions are presented to Stack Overflow users.\n",
    "\n",
    "With this goal in mind, you write the query below, which focuses on questions asked in January 2018.  It returns a table with two columns:\n",
    "- `q_id` - the ID of the question\n",
    "- `time_to_answer` - how long it took (in seconds) for the question to receive an answer\n",
    "\n",
    "Run the query below (without changes), and take a look at the output."
   ]
  },
  {
   "cell_type": "code",
   "execution_count": 4,
   "id": "a58d70f7",
   "metadata": {
    "execution": {
     "iopub.execute_input": "2022-03-19T14:45:40.105506Z",
     "iopub.status.busy": "2022-03-19T14:45:40.104758Z",
     "iopub.status.idle": "2022-03-19T14:45:45.296347Z",
     "shell.execute_reply": "2022-03-19T14:45:45.295628Z",
     "shell.execute_reply.started": "2022-03-19T13:39:01.714235Z"
    },
    "papermill": {
     "duration": 5.220282,
     "end_time": "2022-03-19T14:45:45.296507",
     "exception": false,
     "start_time": "2022-03-19T14:45:40.076225",
     "status": "completed"
    },
    "tags": []
   },
   "outputs": [
    {
     "name": "stderr",
     "output_type": "stream",
     "text": [
      "/opt/conda/lib/python3.7/site-packages/google/cloud/bigquery/client.py:440: UserWarning: Cannot create BigQuery Storage client, the dependency google-cloud-bigquery-storage is not installed.\n",
      "  \"Cannot create BigQuery Storage client, the dependency \"\n"
     ]
    },
    {
     "name": "stdout",
     "output_type": "stream",
     "text": [
      "Percentage of answered questions: 100.0%\n",
      "Number of questions: 134700\n"
     ]
    },
    {
     "data": {
      "text/html": [
       "<div>\n",
       "<style scoped>\n",
       "    .dataframe tbody tr th:only-of-type {\n",
       "        vertical-align: middle;\n",
       "    }\n",
       "\n",
       "    .dataframe tbody tr th {\n",
       "        vertical-align: top;\n",
       "    }\n",
       "\n",
       "    .dataframe thead th {\n",
       "        text-align: right;\n",
       "    }\n",
       "</style>\n",
       "<table border=\"1\" class=\"dataframe\">\n",
       "  <thead>\n",
       "    <tr style=\"text-align: right;\">\n",
       "      <th></th>\n",
       "      <th>q_id</th>\n",
       "      <th>time_to_answer</th>\n",
       "    </tr>\n",
       "  </thead>\n",
       "  <tbody>\n",
       "    <tr>\n",
       "      <th>0</th>\n",
       "      <td>48382183</td>\n",
       "      <td>-132444692</td>\n",
       "    </tr>\n",
       "    <tr>\n",
       "      <th>1</th>\n",
       "      <td>48195422</td>\n",
       "      <td>0</td>\n",
       "    </tr>\n",
       "    <tr>\n",
       "      <th>2</th>\n",
       "      <td>48154783</td>\n",
       "      <td>0</td>\n",
       "    </tr>\n",
       "    <tr>\n",
       "      <th>3</th>\n",
       "      <td>48117460</td>\n",
       "      <td>0</td>\n",
       "    </tr>\n",
       "    <tr>\n",
       "      <th>4</th>\n",
       "      <td>48142530</td>\n",
       "      <td>0</td>\n",
       "    </tr>\n",
       "  </tbody>\n",
       "</table>\n",
       "</div>"
      ],
      "text/plain": [
       "       q_id  time_to_answer\n",
       "0  48382183      -132444692\n",
       "1  48195422               0\n",
       "2  48154783               0\n",
       "3  48117460               0\n",
       "4  48142530               0"
      ]
     },
     "execution_count": 4,
     "metadata": {},
     "output_type": "execute_result"
    }
   ],
   "source": [
    "first_query = \"\"\"\n",
    "              SELECT q.id AS q_id,\n",
    "                  MIN(TIMESTAMP_DIFF(a.creation_date, q.creation_date, SECOND)) as time_to_answer\n",
    "              FROM `bigquery-public-data.stackoverflow.posts_questions` AS q\n",
    "                  INNER JOIN `bigquery-public-data.stackoverflow.posts_answers` AS a\n",
    "              ON q.id = a.parent_id\n",
    "              WHERE q.creation_date >= '2018-01-01' and q.creation_date < '2018-02-01'\n",
    "              GROUP BY q_id\n",
    "              ORDER BY time_to_answer\n",
    "              \"\"\"\n",
    "\n",
    "first_result = client.query(first_query).result().to_dataframe()\n",
    "print(\"Percentage of answered questions: %s%%\" % \\\n",
    "      (sum(first_result[\"time_to_answer\"].notnull()) / len(first_result) * 100))\n",
    "print(\"Number of questions:\", len(first_result))\n",
    "first_result.head()"
   ]
  },
  {
   "cell_type": "markdown",
   "id": "a71421dc",
   "metadata": {
    "papermill": {
     "duration": 0.025609,
     "end_time": "2022-03-19T14:45:45.348739",
     "exception": false,
     "start_time": "2022-03-19T14:45:45.323130",
     "status": "completed"
    },
    "tags": []
   },
   "source": [
    "You're surprised at the results and strongly suspect that something is wrong with your query.  In particular,\n",
    "- According to the query, 100% of the questions from January 2018 received an answer.  But, you know that ~80% of the questions on the site usually receive an answer.\n",
    "- The total number of questions is surprisingly low.  You expected to see at least 150,000 questions represented in the table.\n",
    "\n",
    "Given these observations, you think that the type of **JOIN** you have chosen has inadvertently excluded unanswered questions.  Using the code cell below, can you figure out what type of **JOIN** to use to fix the problem so that the table includes unanswered questions?\n",
    "\n",
    "**Note**: You need only amend the type of **JOIN** (i.e., **INNER**, **LEFT**, **RIGHT**, or **FULL**) to answer the question successfully."
   ]
  },
  {
   "cell_type": "code",
   "execution_count": 5,
   "id": "0ea27266",
   "metadata": {
    "execution": {
     "iopub.execute_input": "2022-03-19T14:45:45.413250Z",
     "iopub.status.busy": "2022-03-19T14:45:45.412514Z",
     "iopub.status.idle": "2022-03-19T14:45:55.886814Z",
     "shell.execute_reply": "2022-03-19T14:45:55.888441Z",
     "shell.execute_reply.started": "2022-03-19T13:39:06.382688Z"
    },
    "papermill": {
     "duration": 10.511955,
     "end_time": "2022-03-19T14:45:55.888867",
     "exception": false,
     "start_time": "2022-03-19T14:45:45.376912",
     "status": "completed"
    },
    "tags": []
   },
   "outputs": [
    {
     "name": "stderr",
     "output_type": "stream",
     "text": [
      "/opt/conda/lib/python3.7/site-packages/google/cloud/bigquery/client.py:440: UserWarning: Cannot create BigQuery Storage client, the dependency google-cloud-bigquery-storage is not installed.\n",
      "  \"Cannot create BigQuery Storage client, the dependency \"\n"
     ]
    },
    {
     "data": {
      "text/html": [
       "<div>\n",
       "<style scoped>\n",
       "    .dataframe tbody tr th:only-of-type {\n",
       "        vertical-align: middle;\n",
       "    }\n",
       "\n",
       "    .dataframe tbody tr th {\n",
       "        vertical-align: top;\n",
       "    }\n",
       "\n",
       "    .dataframe thead th {\n",
       "        text-align: right;\n",
       "    }\n",
       "</style>\n",
       "<table border=\"1\" class=\"dataframe\">\n",
       "  <thead>\n",
       "    <tr style=\"text-align: right;\">\n",
       "      <th></th>\n",
       "      <th>q_id</th>\n",
       "      <th>time_to_answer</th>\n",
       "    </tr>\n",
       "  </thead>\n",
       "  <tbody>\n",
       "    <tr>\n",
       "      <th>0</th>\n",
       "      <td>48312387</td>\n",
       "      <td>NaN</td>\n",
       "    </tr>\n",
       "    <tr>\n",
       "      <th>1</th>\n",
       "      <td>48083071</td>\n",
       "      <td>NaN</td>\n",
       "    </tr>\n",
       "    <tr>\n",
       "      <th>2</th>\n",
       "      <td>48320171</td>\n",
       "      <td>NaN</td>\n",
       "    </tr>\n",
       "    <tr>\n",
       "      <th>3</th>\n",
       "      <td>48114214</td>\n",
       "      <td>NaN</td>\n",
       "    </tr>\n",
       "    <tr>\n",
       "      <th>4</th>\n",
       "      <td>48298325</td>\n",
       "      <td>NaN</td>\n",
       "    </tr>\n",
       "  </tbody>\n",
       "</table>\n",
       "</div>"
      ],
      "text/plain": [
       "       q_id  time_to_answer\n",
       "0  48312387             NaN\n",
       "1  48083071             NaN\n",
       "2  48320171             NaN\n",
       "3  48114214             NaN\n",
       "4  48298325             NaN"
      ]
     },
     "metadata": {},
     "output_type": "display_data"
    },
    {
     "data": {
      "application/javascript": [
       "parent.postMessage({\"jupyterEvent\": \"custom.exercise_interaction\", \"data\": {\"outcomeType\": 1, \"valueTowardsCompletion\": 0.25, \"interactionType\": 1, \"questionType\": 2, \"questionId\": \"1_CorrectQuery\", \"learnToolsVersion\": \"0.3.4\", \"failureMessage\": \"\", \"exceptionClass\": \"\", \"trace\": \"\"}}, \"*\")"
      ],
      "text/plain": [
       "<IPython.core.display.Javascript object>"
      ]
     },
     "metadata": {},
     "output_type": "display_data"
    },
    {
     "data": {
      "text/markdown": [
       "<span style=\"color:#33cc33\">Correct</span>"
      ],
      "text/plain": [
       "Correct"
      ]
     },
     "metadata": {},
     "output_type": "display_data"
    },
    {
     "name": "stderr",
     "output_type": "stream",
     "text": [
      "/opt/conda/lib/python3.7/site-packages/google/cloud/bigquery/client.py:440: UserWarning: Cannot create BigQuery Storage client, the dependency google-cloud-bigquery-storage is not installed.\n",
      "  \"Cannot create BigQuery Storage client, the dependency \"\n"
     ]
    },
    {
     "name": "stdout",
     "output_type": "stream",
     "text": [
      "Percentage of answered questions: 83.20053366934737%\n",
      "Number of questions: 161898\n"
     ]
    }
   ],
   "source": [
    "# Your code here\n",
    "correct_query = \"\"\"\n",
    "                SELECT q.id AS q_id,\n",
    "                  MIN(TIMESTAMP_DIFF(a.creation_date, q.creation_date, SECOND)) as time_to_answer\n",
    "              FROM `bigquery-public-data.stackoverflow.posts_questions` AS q\n",
    "                  LEFT JOIN `bigquery-public-data.stackoverflow.posts_answers` AS a\n",
    "              ON q.id = a.parent_id\n",
    "              WHERE q.creation_date >= '2018-01-01' and q.creation_date < '2018-02-01'\n",
    "              GROUP BY q_id\n",
    "              ORDER BY time_to_answer\n",
    "                \"\"\"\n",
    "\n",
    "# Check your answer\n",
    "q_1.check()\n",
    "\n",
    "# Run the query, and return a pandas DataFrame\n",
    "correct_result = client.query(correct_query).result().to_dataframe()\n",
    "print(\"Percentage of answered questions: %s%%\" % \\\n",
    "      (sum(correct_result[\"time_to_answer\"].notnull()) / len(correct_result) * 100))\n",
    "print(\"Number of questions:\", len(correct_result))"
   ]
  },
  {
   "cell_type": "code",
   "execution_count": 6,
   "id": "f8c2d632",
   "metadata": {
    "execution": {
     "iopub.execute_input": "2022-03-19T14:45:55.966951Z",
     "iopub.status.busy": "2022-03-19T14:45:55.965952Z",
     "iopub.status.idle": "2022-03-19T14:45:55.969213Z",
     "shell.execute_reply": "2022-03-19T14:45:55.969685Z"
    },
    "papermill": {
     "duration": 0.043733,
     "end_time": "2022-03-19T14:45:55.969860",
     "exception": false,
     "start_time": "2022-03-19T14:45:55.926127",
     "status": "completed"
    },
    "tags": []
   },
   "outputs": [],
   "source": [
    "# Lines below will give you a hint or solution code\n",
    "#q_1.hint()\n",
    "#q_1.solution()"
   ]
  },
  {
   "cell_type": "markdown",
   "id": "ec52a402",
   "metadata": {
    "papermill": {
     "duration": 0.030046,
     "end_time": "2022-03-19T14:45:56.029823",
     "exception": false,
     "start_time": "2022-03-19T14:45:55.999777",
     "status": "completed"
    },
    "tags": []
   },
   "source": [
    "### 2) Initial questions and answers, Part 1\n",
    "\n",
    "You're interested in understanding the initial experiences that users typically have with the Stack Overflow website.  Is it more common for users to first ask questions or provide answers?  After signing up, how long does it take for users to first interact with the website?  To explore this further, you draft the (partial) query in the code cell below.\n",
    "\n",
    "The query returns a table with three columns:\n",
    "- `owner_user_id` - the user ID\n",
    "- `q_creation_date` - the first time the user asked a question \n",
    "- `a_creation_date` - the first time the user contributed an answer \n",
    "\n",
    "You want to keep track of users who have asked questions, but have yet to provide answers.  And, your table should also include users who have answered questions, but have yet to pose their own questions.  \n",
    "\n",
    "With this in mind, please fill in the appropriate **JOIN** (i.e., **INNER**, **LEFT**, **RIGHT**, or **FULL**) to return the correct information.  \n",
    "\n",
    "**Note**: You need only fill in the appropriate **JOIN**.  All other parts of the query should be left as-is.  (You also don't need to write any additional code to run the query, since the `check()` method will take care of this for you.)\n",
    "\n",
    "To avoid returning too much data, we'll restrict our attention to questions and answers posed in January 2019.  We'll amend the timeframe in Part 2 of this question to be more realistic!"
   ]
  },
  {
   "cell_type": "code",
   "execution_count": 7,
   "id": "ba161e91",
   "metadata": {
    "execution": {
     "iopub.execute_input": "2022-03-19T14:45:56.096016Z",
     "iopub.status.busy": "2022-03-19T14:45:56.094786Z",
     "iopub.status.idle": "2022-03-19T14:45:58.704451Z",
     "shell.execute_reply": "2022-03-19T14:45:58.704952Z",
     "shell.execute_reply.started": "2022-03-19T13:39:28.309950Z"
    },
    "papermill": {
     "duration": 2.643371,
     "end_time": "2022-03-19T14:45:58.705120",
     "exception": false,
     "start_time": "2022-03-19T14:45:56.061749",
     "status": "completed"
    },
    "tags": []
   },
   "outputs": [
    {
     "data": {
      "text/html": [
       "<div>\n",
       "<style scoped>\n",
       "    .dataframe tbody tr th:only-of-type {\n",
       "        vertical-align: middle;\n",
       "    }\n",
       "\n",
       "    .dataframe tbody tr th {\n",
       "        vertical-align: top;\n",
       "    }\n",
       "\n",
       "    .dataframe thead th {\n",
       "        text-align: right;\n",
       "    }\n",
       "</style>\n",
       "<table border=\"1\" class=\"dataframe\">\n",
       "  <thead>\n",
       "    <tr style=\"text-align: right;\">\n",
       "      <th></th>\n",
       "      <th>owner_user_id</th>\n",
       "      <th>q_creation_date</th>\n",
       "      <th>a_creation_date</th>\n",
       "    </tr>\n",
       "  </thead>\n",
       "  <tbody>\n",
       "    <tr>\n",
       "      <th>0</th>\n",
       "      <td>10513206</td>\n",
       "      <td>2019-01-02 14:47:41.310000+00:00</td>\n",
       "      <td>2019-01-03 21:08:27.063000+00:00</td>\n",
       "    </tr>\n",
       "    <tr>\n",
       "      <th>1</th>\n",
       "      <td>10874278</td>\n",
       "      <td>2019-01-06 09:16:14.977000+00:00</td>\n",
       "      <td>2019-01-14 13:07:20.897000+00:00</td>\n",
       "    </tr>\n",
       "    <tr>\n",
       "      <th>2</th>\n",
       "      <td>5122643</td>\n",
       "      <td>2019-01-11 01:53:22.417000+00:00</td>\n",
       "      <td>2019-01-11 14:11:44.940000+00:00</td>\n",
       "    </tr>\n",
       "    <tr>\n",
       "      <th>3</th>\n",
       "      <td>493521</td>\n",
       "      <td>2019-01-10 12:30:33.413000+00:00</td>\n",
       "      <td>2019-01-10 13:46:09.447000+00:00</td>\n",
       "    </tr>\n",
       "    <tr>\n",
       "      <th>4</th>\n",
       "      <td>4301860</td>\n",
       "      <td>2019-01-11 04:26:56.040000+00:00</td>\n",
       "      <td>2019-01-11 04:26:56.040000+00:00</td>\n",
       "    </tr>\n",
       "  </tbody>\n",
       "</table>\n",
       "</div>"
      ],
      "text/plain": [
       "   owner_user_id                  q_creation_date  \\\n",
       "0       10513206 2019-01-02 14:47:41.310000+00:00   \n",
       "1       10874278 2019-01-06 09:16:14.977000+00:00   \n",
       "2        5122643 2019-01-11 01:53:22.417000+00:00   \n",
       "3         493521 2019-01-10 12:30:33.413000+00:00   \n",
       "4        4301860 2019-01-11 04:26:56.040000+00:00   \n",
       "\n",
       "                   a_creation_date  \n",
       "0 2019-01-03 21:08:27.063000+00:00  \n",
       "1 2019-01-14 13:07:20.897000+00:00  \n",
       "2 2019-01-11 14:11:44.940000+00:00  \n",
       "3 2019-01-10 13:46:09.447000+00:00  \n",
       "4 2019-01-11 04:26:56.040000+00:00  "
      ]
     },
     "metadata": {},
     "output_type": "display_data"
    },
    {
     "data": {
      "application/javascript": [
       "parent.postMessage({\"jupyterEvent\": \"custom.exercise_interaction\", \"data\": {\"outcomeType\": 1, \"valueTowardsCompletion\": 0.25, \"interactionType\": 1, \"questionType\": 2, \"questionId\": \"2_QA_One\", \"learnToolsVersion\": \"0.3.4\", \"failureMessage\": \"\", \"exceptionClass\": \"\", \"trace\": \"\"}}, \"*\")"
      ],
      "text/plain": [
       "<IPython.core.display.Javascript object>"
      ]
     },
     "metadata": {},
     "output_type": "display_data"
    },
    {
     "data": {
      "text/markdown": [
       "<span style=\"color:#33cc33\">Correct</span>"
      ],
      "text/plain": [
       "Correct"
      ]
     },
     "metadata": {},
     "output_type": "display_data"
    }
   ],
   "source": [
    "# Your code here\n",
    "q_and_a_query = \"\"\"\n",
    "                SELECT q.owner_user_id AS owner_user_id,\n",
    "                    MIN(q.creation_date) AS q_creation_date,\n",
    "                    MIN(a.creation_date) AS a_creation_date\n",
    "                FROM `bigquery-public-data.stackoverflow.posts_questions` AS q\n",
    "                    FULL JOIN `bigquery-public-data.stackoverflow.posts_answers` AS a\n",
    "                ON q.owner_user_id = a.owner_user_id \n",
    "                WHERE q.creation_date >= '2019-01-01' AND q.creation_date < '2019-02-01' \n",
    "                    AND a.creation_date >= '2019-01-01' AND a.creation_date < '2019-02-01'\n",
    "                GROUP BY owner_user_id\n",
    "                \"\"\"\n",
    "\n",
    "# Check your answer\n",
    "q_2.check()"
   ]
  },
  {
   "cell_type": "code",
   "execution_count": 8,
   "id": "8f7d0f28",
   "metadata": {
    "execution": {
     "iopub.execute_input": "2022-03-19T14:45:58.773996Z",
     "iopub.status.busy": "2022-03-19T14:45:58.772905Z",
     "iopub.status.idle": "2022-03-19T14:45:58.777322Z",
     "shell.execute_reply": "2022-03-19T14:45:58.777869Z"
    },
    "papermill": {
     "duration": 0.041236,
     "end_time": "2022-03-19T14:45:58.778114",
     "exception": false,
     "start_time": "2022-03-19T14:45:58.736878",
     "status": "completed"
    },
    "tags": []
   },
   "outputs": [],
   "source": [
    "# Lines below will give you a hint or solution code\n",
    "#q_2.hint()\n",
    "#q_2.solution()"
   ]
  },
  {
   "cell_type": "markdown",
   "id": "62832d95",
   "metadata": {
    "papermill": {
     "duration": 0.030933,
     "end_time": "2022-03-19T14:45:58.841454",
     "exception": false,
     "start_time": "2022-03-19T14:45:58.810521",
     "status": "completed"
    },
    "tags": []
   },
   "source": [
    "### 3) Initial questions and answers, Part 2\n",
    "\n",
    "Now you'll address a more realistic (and complex!) scenario.  To answer this question, you'll need to pull information from *three* different tables!  This syntax very similar to the case when we have to join only two tables.  For instance, consider the three tables below.\n",
    "\n",
    "![three tables](https://i.imgur.com/OyhYtD1.png)\n",
    "\n",
    "We can use two different **JOINs** to link together information from all three tables, in a single query.\n",
    "\n",
    "![double join](https://i.imgur.com/G6buS7P.png)\n",
    "\n",
    "With this in mind, say you're interested in understanding users who joined the site in January 2019.  You want to track their activity on the site: when did they post their first questions and answers, if ever?\n",
    "\n",
    "Write a query that returns the following columns:\n",
    "- `id` - the IDs of all users who created Stack Overflow accounts in January 2019 (January 1, 2019, to January 31, 2019, inclusive)\n",
    "- `q_creation_date` - the first time the user posted a question on the site; if the user has never posted a question, the value should be null\n",
    "- `a_creation_date` - the first time the user posted a question on the site; if the user has never posted a question, the value should be null\n",
    "\n",
    "Note that questions and answers posted after January 31, 2019, should still be included in the results.  And, all users who joined the site in January 2019 should be included (even if they have never posted a question or provided an answer).\n",
    "\n",
    "The query from the previous question should be a nice starting point to answering this question!  You'll need to use the `posts_answers` and `posts_questions` tables.  You'll also need to use the `users` table from the Stack Overflow dataset.  The relevant columns from the `users` table are `id` (the ID of each user) and `creation_date` (when the user joined the Stack Overflow site, in DATETIME format)."
   ]
  },
  {
   "cell_type": "code",
   "execution_count": 9,
   "id": "a27fb99d",
   "metadata": {
    "execution": {
     "iopub.execute_input": "2022-03-19T14:45:58.908931Z",
     "iopub.status.busy": "2022-03-19T14:45:58.907667Z",
     "iopub.status.idle": "2022-03-19T14:45:59.595134Z",
     "shell.execute_reply": "2022-03-19T14:45:59.594624Z",
     "shell.execute_reply.started": "2022-03-19T13:47:32.412366Z"
    },
    "papermill": {
     "duration": 0.722267,
     "end_time": "2022-03-19T14:45:59.595300",
     "exception": false,
     "start_time": "2022-03-19T14:45:58.873033",
     "status": "completed"
    },
    "tags": []
   },
   "outputs": [
    {
     "name": "stderr",
     "output_type": "stream",
     "text": [
      "/opt/conda/lib/python3.7/site-packages/ipykernel_launcher.py:8: UserWarning: Cannot use bqstorage_client if max_results is set, reverting to fetching data with the tabledata.list endpoint.\n",
      "  \n"
     ]
    },
    {
     "data": {
      "text/html": [
       "<div>\n",
       "<style scoped>\n",
       "    .dataframe tbody tr th:only-of-type {\n",
       "        vertical-align: middle;\n",
       "    }\n",
       "\n",
       "    .dataframe tbody tr th {\n",
       "        vertical-align: top;\n",
       "    }\n",
       "\n",
       "    .dataframe thead th {\n",
       "        text-align: right;\n",
       "    }\n",
       "</style>\n",
       "<table border=\"1\" class=\"dataframe\">\n",
       "  <thead>\n",
       "    <tr style=\"text-align: right;\">\n",
       "      <th></th>\n",
       "      <th>id</th>\n",
       "      <th>display_name</th>\n",
       "      <th>about_me</th>\n",
       "      <th>age</th>\n",
       "      <th>creation_date</th>\n",
       "      <th>last_access_date</th>\n",
       "      <th>location</th>\n",
       "      <th>reputation</th>\n",
       "      <th>up_votes</th>\n",
       "      <th>down_votes</th>\n",
       "      <th>views</th>\n",
       "      <th>profile_image_url</th>\n",
       "      <th>website_url</th>\n",
       "    </tr>\n",
       "  </thead>\n",
       "  <tbody>\n",
       "    <tr>\n",
       "      <th>0</th>\n",
       "      <td>988</td>\n",
       "      <td>staffan</td>\n",
       "      <td>&lt;p&gt;I'm the serviceability architect/tech lead ...</td>\n",
       "      <td>None</td>\n",
       "      <td>2008-08-11 12:14:35.620000+00:00</td>\n",
       "      <td>2021-11-01 14:57:58.837000+00:00</td>\n",
       "      <td>Sweden</td>\n",
       "      <td>5483</td>\n",
       "      <td>179</td>\n",
       "      <td>7</td>\n",
       "      <td>310</td>\n",
       "      <td>None</td>\n",
       "      <td>http://none</td>\n",
       "    </tr>\n",
       "    <tr>\n",
       "      <th>1</th>\n",
       "      <td>2289</td>\n",
       "      <td>Ant</td>\n",
       "      <td>&lt;p&gt;Programmer&lt;/p&gt;</td>\n",
       "      <td>None</td>\n",
       "      <td>2008-08-21 13:59:43.713000+00:00</td>\n",
       "      <td>2021-12-03 20:32:21.520000+00:00</td>\n",
       "      <td>Mountain View, CA</td>\n",
       "      <td>4790</td>\n",
       "      <td>1138</td>\n",
       "      <td>6</td>\n",
       "      <td>280</td>\n",
       "      <td>None</td>\n",
       "      <td>http://simianzombie.com</td>\n",
       "    </tr>\n",
       "    <tr>\n",
       "      <th>2</th>\n",
       "      <td>2492</td>\n",
       "      <td>Sam Brightman</td>\n",
       "      <td>None</td>\n",
       "      <td>None</td>\n",
       "      <td>2008-08-22 14:03:41.293000+00:00</td>\n",
       "      <td>2021-12-02 13:25:33.697000+00:00</td>\n",
       "      <td>United Kingdom</td>\n",
       "      <td>2526</td>\n",
       "      <td>603</td>\n",
       "      <td>22</td>\n",
       "      <td>329</td>\n",
       "      <td>None</td>\n",
       "      <td>None</td>\n",
       "    </tr>\n",
       "    <tr>\n",
       "      <th>3</th>\n",
       "      <td>2509</td>\n",
       "      <td>dmckee --- ex-moderator kitten</td>\n",
       "      <td>&lt;p&gt;Experimental nuclear and particle physicist...</td>\n",
       "      <td>None</td>\n",
       "      <td>2008-08-22 15:36:54.363000+00:00</td>\n",
       "      <td>2021-12-03 20:58:10.140000+00:00</td>\n",
       "      <td>Duchy of Grand Fenwick</td>\n",
       "      <td>92708</td>\n",
       "      <td>5100</td>\n",
       "      <td>1394</td>\n",
       "      <td>14008</td>\n",
       "      <td>https://www.gravatar.com/avatar/79ed928ca8b1ab...</td>\n",
       "      <td>http://inspirehep.net/search?p=FIND+AU+D+MCKEE...</td>\n",
       "    </tr>\n",
       "    <tr>\n",
       "      <th>4</th>\n",
       "      <td>4154</td>\n",
       "      <td>Matt</td>\n",
       "      <td>None</td>\n",
       "      <td>None</td>\n",
       "      <td>2008-09-02 05:43:32.250000+00:00</td>\n",
       "      <td>2021-11-29 22:26:24.390000+00:00</td>\n",
       "      <td>Kansas City, MO</td>\n",
       "      <td>4912</td>\n",
       "      <td>446</td>\n",
       "      <td>1</td>\n",
       "      <td>433</td>\n",
       "      <td>None</td>\n",
       "      <td>http://stackoverflow.com/users/4154/matt</td>\n",
       "    </tr>\n",
       "  </tbody>\n",
       "</table>\n",
       "</div>"
      ],
      "text/plain": [
       "     id                    display_name  \\\n",
       "0   988                         staffan   \n",
       "1  2289                             Ant   \n",
       "2  2492                   Sam Brightman   \n",
       "3  2509  dmckee --- ex-moderator kitten   \n",
       "4  4154                            Matt   \n",
       "\n",
       "                                            about_me   age  \\\n",
       "0  <p>I'm the serviceability architect/tech lead ...  None   \n",
       "1                                  <p>Programmer</p>  None   \n",
       "2                                               None  None   \n",
       "3  <p>Experimental nuclear and particle physicist...  None   \n",
       "4                                               None  None   \n",
       "\n",
       "                     creation_date                 last_access_date  \\\n",
       "0 2008-08-11 12:14:35.620000+00:00 2021-11-01 14:57:58.837000+00:00   \n",
       "1 2008-08-21 13:59:43.713000+00:00 2021-12-03 20:32:21.520000+00:00   \n",
       "2 2008-08-22 14:03:41.293000+00:00 2021-12-02 13:25:33.697000+00:00   \n",
       "3 2008-08-22 15:36:54.363000+00:00 2021-12-03 20:58:10.140000+00:00   \n",
       "4 2008-09-02 05:43:32.250000+00:00 2021-11-29 22:26:24.390000+00:00   \n",
       "\n",
       "                 location  reputation  up_votes  down_votes  views  \\\n",
       "0                  Sweden        5483       179           7    310   \n",
       "1       Mountain View, CA        4790      1138           6    280   \n",
       "2          United Kingdom        2526       603          22    329   \n",
       "3  Duchy of Grand Fenwick       92708      5100        1394  14008   \n",
       "4         Kansas City, MO        4912       446           1    433   \n",
       "\n",
       "                                   profile_image_url  \\\n",
       "0                                               None   \n",
       "1                                               None   \n",
       "2                                               None   \n",
       "3  https://www.gravatar.com/avatar/79ed928ca8b1ab...   \n",
       "4                                               None   \n",
       "\n",
       "                                         website_url  \n",
       "0                                        http://none  \n",
       "1                            http://simianzombie.com  \n",
       "2                                               None  \n",
       "3  http://inspirehep.net/search?p=FIND+AU+D+MCKEE...  \n",
       "4           http://stackoverflow.com/users/4154/matt  "
      ]
     },
     "execution_count": 9,
     "metadata": {},
     "output_type": "execute_result"
    }
   ],
   "source": [
    "# Construct a reference to the \"users\" table\n",
    "table_ref = dataset_ref.table(\"users\")\n",
    "\n",
    "# API request - fetch the table\n",
    "table = client.get_table(table_ref)\n",
    "\n",
    "# Preview the first five lines of the table\n",
    "client.list_rows(table, max_results=5).to_dataframe()"
   ]
  },
  {
   "cell_type": "code",
   "execution_count": 10,
   "id": "e46ee34d",
   "metadata": {
    "execution": {
     "iopub.execute_input": "2022-03-19T14:45:59.665416Z",
     "iopub.status.busy": "2022-03-19T14:45:59.664687Z",
     "iopub.status.idle": "2022-03-19T14:46:06.264767Z",
     "shell.execute_reply": "2022-03-19T14:46:06.265327Z",
     "shell.execute_reply.started": "2022-03-19T14:17:16.530683Z"
    },
    "papermill": {
     "duration": 6.635918,
     "end_time": "2022-03-19T14:46:06.265517",
     "exception": false,
     "start_time": "2022-03-19T14:45:59.629599",
     "status": "completed"
    },
    "tags": []
   },
   "outputs": [
    {
     "name": "stderr",
     "output_type": "stream",
     "text": [
      "/opt/conda/lib/python3.7/site-packages/google/cloud/bigquery/client.py:440: UserWarning: Cannot create BigQuery Storage client, the dependency google-cloud-bigquery-storage is not installed.\n",
      "  \"Cannot create BigQuery Storage client, the dependency \"\n"
     ]
    },
    {
     "data": {
      "text/html": [
       "<div>\n",
       "<style scoped>\n",
       "    .dataframe tbody tr th:only-of-type {\n",
       "        vertical-align: middle;\n",
       "    }\n",
       "\n",
       "    .dataframe tbody tr th {\n",
       "        vertical-align: top;\n",
       "    }\n",
       "\n",
       "    .dataframe thead th {\n",
       "        text-align: right;\n",
       "    }\n",
       "</style>\n",
       "<table border=\"1\" class=\"dataframe\">\n",
       "  <thead>\n",
       "    <tr style=\"text-align: right;\">\n",
       "      <th></th>\n",
       "      <th>id</th>\n",
       "      <th>q_creation_date</th>\n",
       "      <th>a_creation_date</th>\n",
       "    </tr>\n",
       "  </thead>\n",
       "  <tbody>\n",
       "    <tr>\n",
       "      <th>0</th>\n",
       "      <td>10994619</td>\n",
       "      <td>NaT</td>\n",
       "      <td>2021-04-16 03:43:38.630000+00:00</td>\n",
       "    </tr>\n",
       "    <tr>\n",
       "      <th>1</th>\n",
       "      <td>10923545</td>\n",
       "      <td>NaT</td>\n",
       "      <td>NaT</td>\n",
       "    </tr>\n",
       "    <tr>\n",
       "      <th>2</th>\n",
       "      <td>10934781</td>\n",
       "      <td>NaT</td>\n",
       "      <td>NaT</td>\n",
       "    </tr>\n",
       "    <tr>\n",
       "      <th>3</th>\n",
       "      <td>10861369</td>\n",
       "      <td>NaT</td>\n",
       "      <td>NaT</td>\n",
       "    </tr>\n",
       "    <tr>\n",
       "      <th>4</th>\n",
       "      <td>10944789</td>\n",
       "      <td>NaT</td>\n",
       "      <td>2019-01-21 13:02:14.397000+00:00</td>\n",
       "    </tr>\n",
       "  </tbody>\n",
       "</table>\n",
       "</div>"
      ],
      "text/plain": [
       "         id q_creation_date                  a_creation_date\n",
       "0  10994619             NaT 2021-04-16 03:43:38.630000+00:00\n",
       "1  10923545             NaT                              NaT\n",
       "2  10934781             NaT                              NaT\n",
       "3  10861369             NaT                              NaT\n",
       "4  10944789             NaT 2019-01-21 13:02:14.397000+00:00"
      ]
     },
     "metadata": {},
     "output_type": "display_data"
    },
    {
     "data": {
      "application/javascript": [
       "parent.postMessage({\"jupyterEvent\": \"custom.exercise_interaction\", \"data\": {\"outcomeType\": 1, \"valueTowardsCompletion\": 0.25, \"interactionType\": 1, \"questionType\": 2, \"questionId\": \"3_QA_Two\", \"learnToolsVersion\": \"0.3.4\", \"failureMessage\": \"\", \"exceptionClass\": \"\", \"trace\": \"\"}}, \"*\")"
      ],
      "text/plain": [
       "<IPython.core.display.Javascript object>"
      ]
     },
     "metadata": {},
     "output_type": "display_data"
    },
    {
     "data": {
      "text/markdown": [
       "<span style=\"color:#33cc33\">Correct</span>"
      ],
      "text/plain": [
       "Correct"
      ]
     },
     "metadata": {},
     "output_type": "display_data"
    }
   ],
   "source": [
    "# Your code here\n",
    "three_tables_query = \"\"\"     \n",
    "                    SELECT u.id AS id,\n",
    "                        MIN(q.creation_date) AS q_creation_date,\n",
    "                        MIN(a.creation_date) AS a_creation_date\n",
    "                    FROM `bigquery-public-data.stackoverflow.users` AS u\n",
    "                        LEFT JOIN\n",
    "                        `bigquery-public-data.stackoverflow.posts_questions` AS q\n",
    "                    ON u.id = q.owner_user_id\n",
    "                        LEFT JOIN `bigquery-public-data.stackoverflow.posts_answers` AS a\n",
    "                    ON u.id = a.owner_user_id \n",
    "                    WHERE u.creation_date >= '2019-01-01' AND u.creation_date < '2019-02-01' \n",
    "                    GROUP BY id\n",
    "                     \"\"\"\n",
    "\n",
    "# Check your answer\n",
    "q_3.check()"
   ]
  },
  {
   "cell_type": "code",
   "execution_count": 11,
   "id": "d0ada9fa",
   "metadata": {
    "execution": {
     "iopub.execute_input": "2022-03-19T14:46:06.346415Z",
     "iopub.status.busy": "2022-03-19T14:46:06.345648Z",
     "iopub.status.idle": "2022-03-19T14:46:06.349342Z",
     "shell.execute_reply": "2022-03-19T14:46:06.348633Z",
     "shell.execute_reply.started": "2022-03-19T14:18:08.122576Z"
    },
    "papermill": {
     "duration": 0.047494,
     "end_time": "2022-03-19T14:46:06.349510",
     "exception": false,
     "start_time": "2022-03-19T14:46:06.302016",
     "status": "completed"
    },
    "tags": []
   },
   "outputs": [],
   "source": [
    "# Lines below will give you a hint or solution code\n",
    "# q_3.hint()\n",
    "# q_3.solution()"
   ]
  },
  {
   "cell_type": "markdown",
   "id": "fda4de92",
   "metadata": {
    "papermill": {
     "duration": 0.038615,
     "end_time": "2022-03-19T14:46:06.425011",
     "exception": false,
     "start_time": "2022-03-19T14:46:06.386396",
     "status": "completed"
    },
    "tags": []
   },
   "source": [
    "### 4) How many distinct users posted on January 1, 2019?\n",
    "\n",
    "In the code cell below, write a query that returns a table with a single column:\n",
    "- `owner_user_id` - the IDs of all users who posted at least one question or answer on January 1, 2019.  Each user ID should appear at most once.\n",
    "\n",
    "In the `posts_questions` (and `posts_answers`) tables, you can get the ID of the original poster from the `owner_user_id` column.  Likewise, the date of the original posting can be found in the `creation_date` column.  \n",
    "\n",
    "In order for your answer to be marked correct, your query must use a **UNION**."
   ]
  },
  {
   "cell_type": "code",
   "execution_count": 12,
   "id": "a456b1b1",
   "metadata": {
    "execution": {
     "iopub.execute_input": "2022-03-19T14:46:06.508129Z",
     "iopub.status.busy": "2022-03-19T14:46:06.507426Z",
     "iopub.status.idle": "2022-03-19T14:46:07.518614Z",
     "shell.execute_reply": "2022-03-19T14:46:07.517966Z",
     "shell.execute_reply.started": "2022-03-19T14:44:37.964663Z"
    },
    "papermill": {
     "duration": 1.056745,
     "end_time": "2022-03-19T14:46:07.518781",
     "exception": false,
     "start_time": "2022-03-19T14:46:06.462036",
     "status": "completed"
    },
    "tags": []
   },
   "outputs": [
    {
     "name": "stderr",
     "output_type": "stream",
     "text": [
      "/opt/conda/lib/python3.7/site-packages/google/cloud/bigquery/client.py:440: UserWarning: Cannot create BigQuery Storage client, the dependency google-cloud-bigquery-storage is not installed.\n",
      "  \"Cannot create BigQuery Storage client, the dependency \"\n"
     ]
    },
    {
     "data": {
      "text/html": [
       "<div>\n",
       "<style scoped>\n",
       "    .dataframe tbody tr th:only-of-type {\n",
       "        vertical-align: middle;\n",
       "    }\n",
       "\n",
       "    .dataframe tbody tr th {\n",
       "        vertical-align: top;\n",
       "    }\n",
       "\n",
       "    .dataframe thead th {\n",
       "        text-align: right;\n",
       "    }\n",
       "</style>\n",
       "<table border=\"1\" class=\"dataframe\">\n",
       "  <thead>\n",
       "    <tr style=\"text-align: right;\">\n",
       "      <th></th>\n",
       "      <th>owner_user_id</th>\n",
       "    </tr>\n",
       "  </thead>\n",
       "  <tbody>\n",
       "    <tr>\n",
       "      <th>0</th>\n",
       "      <td>10829940.0</td>\n",
       "    </tr>\n",
       "    <tr>\n",
       "      <th>1</th>\n",
       "      <td>4434941.0</td>\n",
       "    </tr>\n",
       "    <tr>\n",
       "      <th>2</th>\n",
       "      <td>10229061.0</td>\n",
       "    </tr>\n",
       "    <tr>\n",
       "      <th>3</th>\n",
       "      <td>861018.0</td>\n",
       "    </tr>\n",
       "    <tr>\n",
       "      <th>4</th>\n",
       "      <td>10618623.0</td>\n",
       "    </tr>\n",
       "  </tbody>\n",
       "</table>\n",
       "</div>"
      ],
      "text/plain": [
       "   owner_user_id\n",
       "0     10829940.0\n",
       "1      4434941.0\n",
       "2     10229061.0\n",
       "3       861018.0\n",
       "4     10618623.0"
      ]
     },
     "metadata": {},
     "output_type": "display_data"
    },
    {
     "data": {
      "application/javascript": [
       "parent.postMessage({\"jupyterEvent\": \"custom.exercise_interaction\", \"data\": {\"outcomeType\": 1, \"valueTowardsCompletion\": 0.25, \"interactionType\": 1, \"questionType\": 2, \"questionId\": \"4_AllUsers\", \"learnToolsVersion\": \"0.3.4\", \"failureMessage\": \"\", \"exceptionClass\": \"\", \"trace\": \"\"}}, \"*\")"
      ],
      "text/plain": [
       "<IPython.core.display.Javascript object>"
      ]
     },
     "metadata": {},
     "output_type": "display_data"
    },
    {
     "data": {
      "text/markdown": [
       "<span style=\"color:#33cc33\">Correct</span>"
      ],
      "text/plain": [
       "Correct"
      ]
     },
     "metadata": {},
     "output_type": "display_data"
    }
   ],
   "source": [
    "# Your code here\n",
    "all_users_query = \"\"\"\n",
    "                  SELECT q.owner_user_id\n",
    "                  FROM `bigquery-public-data.stackoverflow.posts_questions` as q\n",
    "                  WHERE EXTRACT(DATE FROM q.creation_date) = '2019-01-01' \n",
    "                    \n",
    "                  UNION DISTINCT\n",
    "                  \n",
    "                  SELECT a.owner_user_id\n",
    "                  FROM `bigquery-public-data.stackoverflow.posts_answers` as a\n",
    "                  WHERE EXTRACT(DATE FROM a.creation_date) = '2019-01-01'\n",
    "                  \n",
    "                  \"\"\"\n",
    "\n",
    "# Check your answer\n",
    "q_4.check()"
   ]
  },
  {
   "cell_type": "code",
   "execution_count": 13,
   "id": "c45dbdf6",
   "metadata": {
    "execution": {
     "iopub.execute_input": "2022-03-19T14:46:07.605705Z",
     "iopub.status.busy": "2022-03-19T14:46:07.604952Z",
     "iopub.status.idle": "2022-03-19T14:46:07.607720Z",
     "shell.execute_reply": "2022-03-19T14:46:07.608216Z",
     "shell.execute_reply.started": "2022-03-19T14:44:24.679001Z"
    },
    "papermill": {
     "duration": 0.044661,
     "end_time": "2022-03-19T14:46:07.608419",
     "exception": false,
     "start_time": "2022-03-19T14:46:07.563758",
     "status": "completed"
    },
    "tags": []
   },
   "outputs": [],
   "source": [
    "# Lines below will give you a hint or solution code\n",
    "# q_4.hint()\n",
    "# q_4.solution()"
   ]
  },
  {
   "cell_type": "markdown",
   "id": "68358816",
   "metadata": {
    "papermill": {
     "duration": 0.040575,
     "end_time": "2022-03-19T14:46:07.688716",
     "exception": false,
     "start_time": "2022-03-19T14:46:07.648141",
     "status": "completed"
    },
    "tags": []
   },
   "source": [
    "# Keep going\n",
    "\n",
    "Learn how to use **[analytic functions](https://www.kaggle.com/alexisbcook/analytic-functions)** to perform complex calculations with minimal SQL code."
   ]
  },
  {
   "cell_type": "markdown",
   "id": "6aacc29b",
   "metadata": {
    "papermill": {
     "duration": 0.039414,
     "end_time": "2022-03-19T14:46:07.766901",
     "exception": false,
     "start_time": "2022-03-19T14:46:07.727487",
     "status": "completed"
    },
    "tags": []
   },
   "source": [
    "---\n",
    "\n",
    "\n",
    "\n",
    "\n",
    "*Have questions or comments? Visit the [course discussion forum](https://www.kaggle.com/learn/advanced-sql/discussion) to chat with other learners.*"
   ]
  }
 ],
 "metadata": {
  "kernelspec": {
   "display_name": "Python 3",
   "language": "python",
   "name": "python3"
  },
  "language_info": {
   "codemirror_mode": {
    "name": "ipython",
    "version": 3
   },
   "file_extension": ".py",
   "mimetype": "text/x-python",
   "name": "python",
   "nbconvert_exporter": "python",
   "pygments_lexer": "ipython3",
   "version": "3.7.12"
  },
  "papermill": {
   "default_parameters": {},
   "duration": 58.411764,
   "end_time": "2022-03-19T14:46:08.518565",
   "environment_variables": {},
   "exception": null,
   "input_path": "__notebook__.ipynb",
   "output_path": "__notebook__.ipynb",
   "parameters": {},
   "start_time": "2022-03-19T14:45:10.106801",
   "version": "2.3.3"
  }
 },
 "nbformat": 4,
 "nbformat_minor": 5
}
